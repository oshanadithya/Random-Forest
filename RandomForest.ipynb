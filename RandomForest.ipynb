{
 "cells": [
  {
   "cell_type": "code",
   "execution_count": 1,
   "id": "cef3a285",
   "metadata": {},
   "outputs": [
    {
     "name": "stdout",
     "output_type": "stream",
     "text": [
      "Requirement already satisfied: numpy in d:\\y4s1\\ml\\model\\env\\lib\\site-packages (1.24.3)\n",
      "Requirement already satisfied: pandas in d:\\y4s1\\ml\\model\\env\\lib\\site-packages (2.0.1)\n",
      "Requirement already satisfied: python-dateutil>=2.8.2 in d:\\y4s1\\ml\\model\\env\\lib\\site-packages (from pandas) (2.8.2)\n",
      "Requirement already satisfied: pytz>=2020.1 in d:\\y4s1\\ml\\model\\env\\lib\\site-packages (from pandas) (2023.3)\n",
      "Requirement already satisfied: tzdata>=2022.1 in d:\\y4s1\\ml\\model\\env\\lib\\site-packages (from pandas) (2023.3)\n",
      "Requirement already satisfied: numpy>=1.21.0 in d:\\y4s1\\ml\\model\\env\\lib\\site-packages (from pandas) (1.24.3)\n",
      "Requirement already satisfied: six>=1.5 in d:\\y4s1\\ml\\model\\env\\lib\\site-packages (from python-dateutil>=2.8.2->pandas) (1.16.0)\n",
      "Requirement already satisfied: scikit-learn in d:\\y4s1\\ml\\model\\env\\lib\\site-packages (1.2.2)\n",
      "Requirement already satisfied: numpy>=1.17.3 in d:\\y4s1\\ml\\model\\env\\lib\\site-packages (from scikit-learn) (1.24.3)\n",
      "Requirement already satisfied: scipy>=1.3.2 in d:\\y4s1\\ml\\model\\env\\lib\\site-packages (from scikit-learn) (1.10.1)\n",
      "Requirement already satisfied: joblib>=1.1.1 in d:\\y4s1\\ml\\model\\env\\lib\\site-packages (from scikit-learn) (1.2.0)\n",
      "Requirement already satisfied: threadpoolctl>=2.0.0 in d:\\y4s1\\ml\\model\\env\\lib\\site-packages (from scikit-learn) (3.1.0)\n",
      "Requirement already satisfied: matplotlib in d:\\y4s1\\ml\\model\\env\\lib\\site-packages (3.7.1)\n",
      "Requirement already satisfied: contourpy>=1.0.1 in d:\\y4s1\\ml\\model\\env\\lib\\site-packages (from matplotlib) (1.0.7)\n",
      "Requirement already satisfied: cycler>=0.10 in d:\\y4s1\\ml\\model\\env\\lib\\site-packages (from matplotlib) (0.11.0)\n",
      "Requirement already satisfied: fonttools>=4.22.0 in d:\\y4s1\\ml\\model\\env\\lib\\site-packages (from matplotlib) (4.39.3)\n",
      "Requirement already satisfied: kiwisolver>=1.0.1 in d:\\y4s1\\ml\\model\\env\\lib\\site-packages (from matplotlib) (1.4.4)\n",
      "Requirement already satisfied: numpy>=1.20 in d:\\y4s1\\ml\\model\\env\\lib\\site-packages (from matplotlib) (1.24.3)\n",
      "Requirement already satisfied: packaging>=20.0 in d:\\y4s1\\ml\\model\\env\\lib\\site-packages (from matplotlib) (23.1)\n",
      "Requirement already satisfied: pillow>=6.2.0 in d:\\y4s1\\ml\\model\\env\\lib\\site-packages (from matplotlib) (9.5.0)\n",
      "Requirement already satisfied: pyparsing>=2.3.1 in d:\\y4s1\\ml\\model\\env\\lib\\site-packages (from matplotlib) (3.0.9)\n",
      "Requirement already satisfied: python-dateutil>=2.7 in d:\\y4s1\\ml\\model\\env\\lib\\site-packages (from matplotlib) (2.8.2)\n",
      "Requirement already satisfied: six>=1.5 in d:\\y4s1\\ml\\model\\env\\lib\\site-packages (from python-dateutil>=2.7->matplotlib) (1.16.0)\n",
      "Requirement already satisfied: seaborn in d:\\y4s1\\ml\\model\\env\\lib\\site-packages (0.12.2)\n",
      "Requirement already satisfied: numpy!=1.24.0,>=1.17 in d:\\y4s1\\ml\\model\\env\\lib\\site-packages (from seaborn) (1.24.3)\n",
      "Requirement already satisfied: pandas>=0.25 in d:\\y4s1\\ml\\model\\env\\lib\\site-packages (from seaborn) (2.0.1)\n",
      "Requirement already satisfied: matplotlib!=3.6.1,>=3.1 in d:\\y4s1\\ml\\model\\env\\lib\\site-packages (from seaborn) (3.7.1)\n",
      "Requirement already satisfied: contourpy>=1.0.1 in d:\\y4s1\\ml\\model\\env\\lib\\site-packages (from matplotlib!=3.6.1,>=3.1->seaborn) (1.0.7)\n",
      "Requirement already satisfied: cycler>=0.10 in d:\\y4s1\\ml\\model\\env\\lib\\site-packages (from matplotlib!=3.6.1,>=3.1->seaborn) (0.11.0)\n",
      "Requirement already satisfied: fonttools>=4.22.0 in d:\\y4s1\\ml\\model\\env\\lib\\site-packages (from matplotlib!=3.6.1,>=3.1->seaborn) (4.39.3)\n",
      "Requirement already satisfied: kiwisolver>=1.0.1 in d:\\y4s1\\ml\\model\\env\\lib\\site-packages (from matplotlib!=3.6.1,>=3.1->seaborn) (1.4.4)\n",
      "Requirement already satisfied: packaging>=20.0 in d:\\y4s1\\ml\\model\\env\\lib\\site-packages (from matplotlib!=3.6.1,>=3.1->seaborn) (23.1)\n",
      "Requirement already satisfied: pillow>=6.2.0 in d:\\y4s1\\ml\\model\\env\\lib\\site-packages (from matplotlib!=3.6.1,>=3.1->seaborn) (9.5.0)\n",
      "Requirement already satisfied: pyparsing>=2.3.1 in d:\\y4s1\\ml\\model\\env\\lib\\site-packages (from matplotlib!=3.6.1,>=3.1->seaborn) (3.0.9)\n",
      "Requirement already satisfied: python-dateutil>=2.7 in d:\\y4s1\\ml\\model\\env\\lib\\site-packages (from matplotlib!=3.6.1,>=3.1->seaborn) (2.8.2)\n",
      "Requirement already satisfied: pytz>=2020.1 in d:\\y4s1\\ml\\model\\env\\lib\\site-packages (from pandas>=0.25->seaborn) (2023.3)\n",
      "Requirement already satisfied: tzdata>=2022.1 in d:\\y4s1\\ml\\model\\env\\lib\\site-packages (from pandas>=0.25->seaborn) (2023.3)\n",
      "Requirement already satisfied: six>=1.5 in d:\\y4s1\\ml\\model\\env\\lib\\site-packages (from python-dateutil>=2.7->matplotlib!=3.6.1,>=3.1->seaborn) (1.16.0)\n"
     ]
    }
   ],
   "source": [
    "!pip install numpy\n",
    "!pip install pandas\n",
    "!pip install scikit-learn\n",
    "!pip install matplotlib\n",
    "!pip install seaborn"
   ]
  },
  {
   "cell_type": "code",
   "execution_count": 2,
   "id": "801eec80",
   "metadata": {},
   "outputs": [],
   "source": [
    "import numpy as np\n",
    "import pandas as pd\n",
    "from sklearn.preprocessing import MinMaxScaler\n",
    "import matplotlib.pyplot as plt\n",
    "import seaborn as sns"
   ]
  },
  {
   "cell_type": "code",
   "execution_count": 3,
   "id": "2054e635",
   "metadata": {},
   "outputs": [
    {
     "data": {
      "text/html": [
       "<div>\n",
       "<style scoped>\n",
       "    .dataframe tbody tr th:only-of-type {\n",
       "        vertical-align: middle;\n",
       "    }\n",
       "\n",
       "    .dataframe tbody tr th {\n",
       "        vertical-align: top;\n",
       "    }\n",
       "\n",
       "    .dataframe thead th {\n",
       "        text-align: right;\n",
       "    }\n",
       "</style>\n",
       "<table border=\"1\" class=\"dataframe\">\n",
       "  <thead>\n",
       "    <tr style=\"text-align: right;\">\n",
       "      <th></th>\n",
       "      <th>Posted On</th>\n",
       "      <th>BHK</th>\n",
       "      <th>Rent</th>\n",
       "      <th>Size</th>\n",
       "      <th>Floor</th>\n",
       "      <th>Area Type</th>\n",
       "      <th>Area Locality</th>\n",
       "      <th>City</th>\n",
       "      <th>Furnishing Status</th>\n",
       "      <th>Tenant Preferred</th>\n",
       "      <th>Bathroom</th>\n",
       "      <th>Point of Contact</th>\n",
       "    </tr>\n",
       "  </thead>\n",
       "  <tbody>\n",
       "    <tr>\n",
       "      <th>0</th>\n",
       "      <td>2022-05-18</td>\n",
       "      <td>2</td>\n",
       "      <td>10000</td>\n",
       "      <td>1100</td>\n",
       "      <td>Ground out of 2</td>\n",
       "      <td>Super Area</td>\n",
       "      <td>Bandel</td>\n",
       "      <td>Kolkata</td>\n",
       "      <td>Unfurnished</td>\n",
       "      <td>Bachelors/Family</td>\n",
       "      <td>2</td>\n",
       "      <td>Contact Owner</td>\n",
       "    </tr>\n",
       "    <tr>\n",
       "      <th>1</th>\n",
       "      <td>2022-05-13</td>\n",
       "      <td>2</td>\n",
       "      <td>20000</td>\n",
       "      <td>800</td>\n",
       "      <td>1 out of 3</td>\n",
       "      <td>Super Area</td>\n",
       "      <td>Phool Bagan, Kankurgachi</td>\n",
       "      <td>Kolkata</td>\n",
       "      <td>Semi-Furnished</td>\n",
       "      <td>Bachelors/Family</td>\n",
       "      <td>1</td>\n",
       "      <td>Contact Owner</td>\n",
       "    </tr>\n",
       "    <tr>\n",
       "      <th>2</th>\n",
       "      <td>2022-05-16</td>\n",
       "      <td>2</td>\n",
       "      <td>17000</td>\n",
       "      <td>1000</td>\n",
       "      <td>1 out of 3</td>\n",
       "      <td>Super Area</td>\n",
       "      <td>Salt Lake City Sector 2</td>\n",
       "      <td>Kolkata</td>\n",
       "      <td>Semi-Furnished</td>\n",
       "      <td>Bachelors/Family</td>\n",
       "      <td>1</td>\n",
       "      <td>Contact Owner</td>\n",
       "    </tr>\n",
       "    <tr>\n",
       "      <th>3</th>\n",
       "      <td>2022-07-04</td>\n",
       "      <td>2</td>\n",
       "      <td>10000</td>\n",
       "      <td>800</td>\n",
       "      <td>1 out of 2</td>\n",
       "      <td>Super Area</td>\n",
       "      <td>Dumdum Park</td>\n",
       "      <td>Kolkata</td>\n",
       "      <td>Unfurnished</td>\n",
       "      <td>Bachelors/Family</td>\n",
       "      <td>1</td>\n",
       "      <td>Contact Owner</td>\n",
       "    </tr>\n",
       "    <tr>\n",
       "      <th>4</th>\n",
       "      <td>2022-05-09</td>\n",
       "      <td>2</td>\n",
       "      <td>7500</td>\n",
       "      <td>850</td>\n",
       "      <td>1 out of 2</td>\n",
       "      <td>Carpet Area</td>\n",
       "      <td>South Dum Dum</td>\n",
       "      <td>Kolkata</td>\n",
       "      <td>Unfurnished</td>\n",
       "      <td>Bachelors</td>\n",
       "      <td>1</td>\n",
       "      <td>Contact Owner</td>\n",
       "    </tr>\n",
       "  </tbody>\n",
       "</table>\n",
       "</div>"
      ],
      "text/plain": [
       "    Posted On  BHK   Rent  Size            Floor    Area Type   \n",
       "0  2022-05-18    2  10000  1100  Ground out of 2   Super Area  \\\n",
       "1  2022-05-13    2  20000   800       1 out of 3   Super Area   \n",
       "2  2022-05-16    2  17000  1000       1 out of 3   Super Area   \n",
       "3  2022-07-04    2  10000   800       1 out of 2   Super Area   \n",
       "4  2022-05-09    2   7500   850       1 out of 2  Carpet Area   \n",
       "\n",
       "              Area Locality     City Furnishing Status  Tenant Preferred   \n",
       "0                    Bandel  Kolkata       Unfurnished  Bachelors/Family  \\\n",
       "1  Phool Bagan, Kankurgachi  Kolkata    Semi-Furnished  Bachelors/Family   \n",
       "2   Salt Lake City Sector 2  Kolkata    Semi-Furnished  Bachelors/Family   \n",
       "3               Dumdum Park  Kolkata       Unfurnished  Bachelors/Family   \n",
       "4             South Dum Dum  Kolkata       Unfurnished         Bachelors   \n",
       "\n",
       "   Bathroom Point of Contact  \n",
       "0         2    Contact Owner  \n",
       "1         1    Contact Owner  \n",
       "2         1    Contact Owner  \n",
       "3         1    Contact Owner  \n",
       "4         1    Contact Owner  "
      ]
     },
     "execution_count": 3,
     "metadata": {},
     "output_type": "execute_result"
    }
   ],
   "source": [
    "#read through the csv file and store in the variable called ' rentData'\n",
    "rentData = pd.read_csv('House_Rent_Dataset.csv', encoding='latin-1')\n",
    "\n",
    "rentData.head()"
   ]
  },
  {
   "cell_type": "code",
   "execution_count": 125,
   "id": "b8870a34",
   "metadata": {},
   "outputs": [],
   "source": [
    "#getting a copy to diplay charts\n",
    "initialRentData = pd.read_csv('House_Rent_Dataset.csv', encoding='latin-1')"
   ]
  },
  {
   "cell_type": "markdown",
   "id": "bc04d5fa",
   "metadata": {},
   "source": [
    "# Some high-level info about the dataset"
   ]
  },
  {
   "cell_type": "code",
   "execution_count": 4,
   "id": "187b1e73",
   "metadata": {},
   "outputs": [
    {
     "name": "stdout",
     "output_type": "stream",
     "text": [
      "<class 'pandas.core.frame.DataFrame'>\n",
      "RangeIndex: 4746 entries, 0 to 4745\n",
      "Data columns (total 12 columns):\n",
      " #   Column             Non-Null Count  Dtype \n",
      "---  ------             --------------  ----- \n",
      " 0   Posted On          4746 non-null   object\n",
      " 1   BHK                4746 non-null   int64 \n",
      " 2   Rent               4746 non-null   int64 \n",
      " 3   Size               4746 non-null   int64 \n",
      " 4   Floor              4746 non-null   object\n",
      " 5   Area Type          4746 non-null   object\n",
      " 6   Area Locality      4746 non-null   object\n",
      " 7   City               4746 non-null   object\n",
      " 8   Furnishing Status  4746 non-null   object\n",
      " 9   Tenant Preferred   4746 non-null   object\n",
      " 10  Bathroom           4746 non-null   int64 \n",
      " 11  Point of Contact   4746 non-null   object\n",
      "dtypes: int64(4), object(8)\n",
      "memory usage: 445.1+ KB\n"
     ]
    }
   ],
   "source": [
    "#View some basic info related to the columns\n",
    "rentData.info()"
   ]
  },
  {
   "cell_type": "code",
   "execution_count": 5,
   "id": "877cc521",
   "metadata": {},
   "outputs": [
    {
     "data": {
      "text/html": [
       "<div>\n",
       "<style scoped>\n",
       "    .dataframe tbody tr th:only-of-type {\n",
       "        vertical-align: middle;\n",
       "    }\n",
       "\n",
       "    .dataframe tbody tr th {\n",
       "        vertical-align: top;\n",
       "    }\n",
       "\n",
       "    .dataframe thead th {\n",
       "        text-align: right;\n",
       "    }\n",
       "</style>\n",
       "<table border=\"1\" class=\"dataframe\">\n",
       "  <thead>\n",
       "    <tr style=\"text-align: right;\">\n",
       "      <th></th>\n",
       "      <th>BHK</th>\n",
       "      <th>Rent</th>\n",
       "      <th>Size</th>\n",
       "      <th>Bathroom</th>\n",
       "    </tr>\n",
       "  </thead>\n",
       "  <tbody>\n",
       "    <tr>\n",
       "      <th>count</th>\n",
       "      <td>4746.000000</td>\n",
       "      <td>4.746000e+03</td>\n",
       "      <td>4746.000000</td>\n",
       "      <td>4746.000000</td>\n",
       "    </tr>\n",
       "    <tr>\n",
       "      <th>mean</th>\n",
       "      <td>2.083860</td>\n",
       "      <td>3.499345e+04</td>\n",
       "      <td>967.490729</td>\n",
       "      <td>1.965866</td>\n",
       "    </tr>\n",
       "    <tr>\n",
       "      <th>std</th>\n",
       "      <td>0.832256</td>\n",
       "      <td>7.810641e+04</td>\n",
       "      <td>634.202328</td>\n",
       "      <td>0.884532</td>\n",
       "    </tr>\n",
       "    <tr>\n",
       "      <th>min</th>\n",
       "      <td>1.000000</td>\n",
       "      <td>1.200000e+03</td>\n",
       "      <td>10.000000</td>\n",
       "      <td>1.000000</td>\n",
       "    </tr>\n",
       "    <tr>\n",
       "      <th>25%</th>\n",
       "      <td>2.000000</td>\n",
       "      <td>1.000000e+04</td>\n",
       "      <td>550.000000</td>\n",
       "      <td>1.000000</td>\n",
       "    </tr>\n",
       "    <tr>\n",
       "      <th>50%</th>\n",
       "      <td>2.000000</td>\n",
       "      <td>1.600000e+04</td>\n",
       "      <td>850.000000</td>\n",
       "      <td>2.000000</td>\n",
       "    </tr>\n",
       "    <tr>\n",
       "      <th>75%</th>\n",
       "      <td>3.000000</td>\n",
       "      <td>3.300000e+04</td>\n",
       "      <td>1200.000000</td>\n",
       "      <td>2.000000</td>\n",
       "    </tr>\n",
       "    <tr>\n",
       "      <th>max</th>\n",
       "      <td>6.000000</td>\n",
       "      <td>3.500000e+06</td>\n",
       "      <td>8000.000000</td>\n",
       "      <td>10.000000</td>\n",
       "    </tr>\n",
       "  </tbody>\n",
       "</table>\n",
       "</div>"
      ],
      "text/plain": [
       "               BHK          Rent         Size     Bathroom\n",
       "count  4746.000000  4.746000e+03  4746.000000  4746.000000\n",
       "mean      2.083860  3.499345e+04   967.490729     1.965866\n",
       "std       0.832256  7.810641e+04   634.202328     0.884532\n",
       "min       1.000000  1.200000e+03    10.000000     1.000000\n",
       "25%       2.000000  1.000000e+04   550.000000     1.000000\n",
       "50%       2.000000  1.600000e+04   850.000000     2.000000\n",
       "75%       3.000000  3.300000e+04  1200.000000     2.000000\n",
       "max       6.000000  3.500000e+06  8000.000000    10.000000"
      ]
     },
     "execution_count": 5,
     "metadata": {},
     "output_type": "execute_result"
    }
   ],
   "source": [
    "#As per the above there are 4 numeric columns and 8 object type colums\n",
    "#no null values\n",
    "\n",
    "#View some statistics of the numeric columns\n",
    "rentData.describe()"
   ]
  },
  {
   "cell_type": "code",
   "execution_count": 6,
   "id": "8909fbf7",
   "metadata": {},
   "outputs": [
    {
     "name": "stdout",
     "output_type": "stream",
     "text": [
      "The shape of our dataset is: (4746, 12)\n"
     ]
    }
   ],
   "source": [
    "print('The shape of our dataset is:', rentData.shape)"
   ]
  },
  {
   "cell_type": "markdown",
   "id": "50cbb593",
   "metadata": {},
   "source": [
    "# Analyse the Columns, Preprocessing and Feature Engineering"
   ]
  },
  {
   "cell_type": "code",
   "execution_count": 7,
   "id": "f96e2efd",
   "metadata": {},
   "outputs": [
    {
     "data": {
      "text/plain": [
       "Posted On              81\n",
       "BHK                     6\n",
       "Rent                  243\n",
       "Size                  615\n",
       "Floor                 480\n",
       "Area Type               3\n",
       "Area Locality        2235\n",
       "City                    6\n",
       "Furnishing Status       3\n",
       "Tenant Preferred        3\n",
       "Bathroom                8\n",
       "Point of Contact        3\n",
       "dtype: int64"
      ]
     },
     "execution_count": 7,
     "metadata": {},
     "output_type": "execute_result"
    }
   ],
   "source": [
    "#view the unique values of each columns to preprocessing\n",
    "rentData.nunique()"
   ]
  },
  {
   "cell_type": "code",
   "execution_count": 8,
   "id": "d4866da9",
   "metadata": {},
   "outputs": [
    {
     "data": {
      "text/plain": [
       "<bound method NDFrame.describe of        Posted On  BHK   Rent  Size            Floor    Area Type   \n",
       "0     2022-05-18    2  10000  1100  Ground out of 2   Super Area  \\\n",
       "1     2022-05-13    2  20000   800       1 out of 3   Super Area   \n",
       "2     2022-05-16    2  17000  1000       1 out of 3   Super Area   \n",
       "3     2022-07-04    2  10000   800       1 out of 2   Super Area   \n",
       "4     2022-05-09    2   7500   850       1 out of 2  Carpet Area   \n",
       "...          ...  ...    ...   ...              ...          ...   \n",
       "4741  2022-05-18    2  15000  1000       3 out of 5  Carpet Area   \n",
       "4742  2022-05-15    3  29000  2000       1 out of 4   Super Area   \n",
       "4743  2022-07-10    3  35000  1750       3 out of 5  Carpet Area   \n",
       "4744  2022-07-06    3  45000  1500     23 out of 34  Carpet Area   \n",
       "4745  2022-05-04    2  15000  1000       4 out of 5  Carpet Area   \n",
       "\n",
       "                 Area Locality       City Furnishing Status  Tenant Preferred   \n",
       "0                       Bandel    Kolkata       Unfurnished  Bachelors/Family  \\\n",
       "1     Phool Bagan, Kankurgachi    Kolkata    Semi-Furnished  Bachelors/Family   \n",
       "2      Salt Lake City Sector 2    Kolkata    Semi-Furnished  Bachelors/Family   \n",
       "3                  Dumdum Park    Kolkata       Unfurnished  Bachelors/Family   \n",
       "4                South Dum Dum    Kolkata       Unfurnished         Bachelors   \n",
       "...                        ...        ...               ...               ...   \n",
       "4741              Bandam Kommu  Hyderabad    Semi-Furnished  Bachelors/Family   \n",
       "4742      Manikonda, Hyderabad  Hyderabad    Semi-Furnished  Bachelors/Family   \n",
       "4743      Himayath Nagar, NH 7  Hyderabad    Semi-Furnished  Bachelors/Family   \n",
       "4744                Gachibowli  Hyderabad    Semi-Furnished            Family   \n",
       "4745           Suchitra Circle  Hyderabad       Unfurnished         Bachelors   \n",
       "\n",
       "      Bathroom Point of Contact  \n",
       "0            2    Contact Owner  \n",
       "1            1    Contact Owner  \n",
       "2            1    Contact Owner  \n",
       "3            1    Contact Owner  \n",
       "4            1    Contact Owner  \n",
       "...        ...              ...  \n",
       "4741         2    Contact Owner  \n",
       "4742         3    Contact Owner  \n",
       "4743         3    Contact Agent  \n",
       "4744         2    Contact Agent  \n",
       "4745         2    Contact Owner  \n",
       "\n",
       "[4746 rows x 12 columns]>"
      ]
     },
     "execution_count": 8,
     "metadata": {},
     "output_type": "execute_result"
    }
   ],
   "source": [
    "rentData.describe"
   ]
  },
  {
   "cell_type": "code",
   "execution_count": 133,
   "id": "f3ac13db",
   "metadata": {},
   "outputs": [],
   "source": [
    "# define colors\n",
    "colors = ['#4C65B0', '#C44E44', '#55A833', '#8154B2', '#CCB952', '#64B5BD', '#FFE5C6', '#FFE3C5']"
   ]
  },
  {
   "cell_type": "markdown",
   "id": "a053122f",
   "metadata": {},
   "source": [
    "# Col1 - PostedOn"
   ]
  },
  {
   "cell_type": "code",
   "execution_count": 9,
   "id": "6868e1f4",
   "metadata": {},
   "outputs": [
    {
     "data": {
      "text/plain": [
       "Posted On\n",
       "2022-07-06    311\n",
       "2022-05-12    149\n",
       "2022-06-04    135\n",
       "2022-07-09    126\n",
       "2022-05-23    125\n",
       "             ... \n",
       "2022-04-24      6\n",
       "2022-04-25      6\n",
       "2022-04-26      2\n",
       "2022-04-13      1\n",
       "2022-07-11      1\n",
       "Name: count, Length: 81, dtype: int64"
      ]
     },
     "execution_count": 9,
     "metadata": {},
     "output_type": "execute_result"
    }
   ],
   "source": [
    "#let's look at the first object type column, which is Posted On\n",
    "rentData['Posted On'].value_counts()"
   ]
  },
  {
   "cell_type": "code",
   "execution_count": 10,
   "id": "fa9b55b1",
   "metadata": {},
   "outputs": [],
   "source": [
    "#All records are related to the 2022, therefore, there is no considerable amount of impact to predict the rent\n",
    "#we can drop the postedOn column\n",
    "rentData = rentData.drop('Posted On', axis=1)"
   ]
  },
  {
   "cell_type": "code",
   "execution_count": 13,
   "id": "51025da0",
   "metadata": {},
   "outputs": [
    {
     "data": {
      "text/plain": [
       "(4746, 11)"
      ]
     },
     "execution_count": 13,
     "metadata": {},
     "output_type": "execute_result"
    }
   ],
   "source": [
    "rentData.shape"
   ]
  },
  {
   "cell_type": "code",
   "execution_count": 14,
   "id": "bc63b665",
   "metadata": {},
   "outputs": [
    {
     "data": {
      "text/html": [
       "<div>\n",
       "<style scoped>\n",
       "    .dataframe tbody tr th:only-of-type {\n",
       "        vertical-align: middle;\n",
       "    }\n",
       "\n",
       "    .dataframe tbody tr th {\n",
       "        vertical-align: top;\n",
       "    }\n",
       "\n",
       "    .dataframe thead th {\n",
       "        text-align: right;\n",
       "    }\n",
       "</style>\n",
       "<table border=\"1\" class=\"dataframe\">\n",
       "  <thead>\n",
       "    <tr style=\"text-align: right;\">\n",
       "      <th></th>\n",
       "      <th>BHK</th>\n",
       "      <th>Rent</th>\n",
       "      <th>Size</th>\n",
       "      <th>Floor</th>\n",
       "      <th>Area Type</th>\n",
       "      <th>Area Locality</th>\n",
       "      <th>City</th>\n",
       "      <th>Furnishing Status</th>\n",
       "      <th>Tenant Preferred</th>\n",
       "      <th>Bathroom</th>\n",
       "      <th>Point of Contact</th>\n",
       "    </tr>\n",
       "  </thead>\n",
       "  <tbody>\n",
       "    <tr>\n",
       "      <th>0</th>\n",
       "      <td>2</td>\n",
       "      <td>10000</td>\n",
       "      <td>1100</td>\n",
       "      <td>Ground out of 2</td>\n",
       "      <td>Super Area</td>\n",
       "      <td>Bandel</td>\n",
       "      <td>Kolkata</td>\n",
       "      <td>Unfurnished</td>\n",
       "      <td>Bachelors/Family</td>\n",
       "      <td>2</td>\n",
       "      <td>Contact Owner</td>\n",
       "    </tr>\n",
       "    <tr>\n",
       "      <th>1</th>\n",
       "      <td>2</td>\n",
       "      <td>20000</td>\n",
       "      <td>800</td>\n",
       "      <td>1 out of 3</td>\n",
       "      <td>Super Area</td>\n",
       "      <td>Phool Bagan, Kankurgachi</td>\n",
       "      <td>Kolkata</td>\n",
       "      <td>Semi-Furnished</td>\n",
       "      <td>Bachelors/Family</td>\n",
       "      <td>1</td>\n",
       "      <td>Contact Owner</td>\n",
       "    </tr>\n",
       "    <tr>\n",
       "      <th>2</th>\n",
       "      <td>2</td>\n",
       "      <td>17000</td>\n",
       "      <td>1000</td>\n",
       "      <td>1 out of 3</td>\n",
       "      <td>Super Area</td>\n",
       "      <td>Salt Lake City Sector 2</td>\n",
       "      <td>Kolkata</td>\n",
       "      <td>Semi-Furnished</td>\n",
       "      <td>Bachelors/Family</td>\n",
       "      <td>1</td>\n",
       "      <td>Contact Owner</td>\n",
       "    </tr>\n",
       "    <tr>\n",
       "      <th>3</th>\n",
       "      <td>2</td>\n",
       "      <td>10000</td>\n",
       "      <td>800</td>\n",
       "      <td>1 out of 2</td>\n",
       "      <td>Super Area</td>\n",
       "      <td>Dumdum Park</td>\n",
       "      <td>Kolkata</td>\n",
       "      <td>Unfurnished</td>\n",
       "      <td>Bachelors/Family</td>\n",
       "      <td>1</td>\n",
       "      <td>Contact Owner</td>\n",
       "    </tr>\n",
       "    <tr>\n",
       "      <th>4</th>\n",
       "      <td>2</td>\n",
       "      <td>7500</td>\n",
       "      <td>850</td>\n",
       "      <td>1 out of 2</td>\n",
       "      <td>Carpet Area</td>\n",
       "      <td>South Dum Dum</td>\n",
       "      <td>Kolkata</td>\n",
       "      <td>Unfurnished</td>\n",
       "      <td>Bachelors</td>\n",
       "      <td>1</td>\n",
       "      <td>Contact Owner</td>\n",
       "    </tr>\n",
       "  </tbody>\n",
       "</table>\n",
       "</div>"
      ],
      "text/plain": [
       "   BHK   Rent  Size            Floor    Area Type             Area Locality   \n",
       "0    2  10000  1100  Ground out of 2   Super Area                    Bandel  \\\n",
       "1    2  20000   800       1 out of 3   Super Area  Phool Bagan, Kankurgachi   \n",
       "2    2  17000  1000       1 out of 3   Super Area   Salt Lake City Sector 2   \n",
       "3    2  10000   800       1 out of 2   Super Area               Dumdum Park   \n",
       "4    2   7500   850       1 out of 2  Carpet Area             South Dum Dum   \n",
       "\n",
       "      City Furnishing Status  Tenant Preferred  Bathroom Point of Contact  \n",
       "0  Kolkata       Unfurnished  Bachelors/Family         2    Contact Owner  \n",
       "1  Kolkata    Semi-Furnished  Bachelors/Family         1    Contact Owner  \n",
       "2  Kolkata    Semi-Furnished  Bachelors/Family         1    Contact Owner  \n",
       "3  Kolkata       Unfurnished  Bachelors/Family         1    Contact Owner  \n",
       "4  Kolkata       Unfurnished         Bachelors         1    Contact Owner  "
      ]
     },
     "execution_count": 14,
     "metadata": {},
     "output_type": "execute_result"
    }
   ],
   "source": [
    "rentData.head(5)"
   ]
  },
  {
   "cell_type": "markdown",
   "id": "530a59a5",
   "metadata": {},
   "source": [
    "# Col2 - BHK (Number of Bedrooms, Hall, Kitchen)"
   ]
  },
  {
   "cell_type": "code",
   "execution_count": 15,
   "id": "efc8383c",
   "metadata": {},
   "outputs": [
    {
     "data": {
      "text/plain": [
       "BHK\n",
       "2    2265\n",
       "1    1167\n",
       "3    1098\n",
       "4     189\n",
       "5      19\n",
       "6       8\n",
       "Name: count, dtype: int64"
      ]
     },
     "execution_count": 15,
     "metadata": {},
     "output_type": "execute_result"
    }
   ],
   "source": [
    "rentData['BHK'].value_counts()"
   ]
  },
  {
   "cell_type": "code",
   "execution_count": null,
   "id": "0e1364c8",
   "metadata": {},
   "outputs": [],
   "source": [
    "#Since there are only 06 unqiue values, no need to modify further"
   ]
  },
  {
   "cell_type": "markdown",
   "id": "6475acb9",
   "metadata": {},
   "source": [
    "# Col3 - Rent (Going to predict)"
   ]
  },
  {
   "cell_type": "code",
   "execution_count": 17,
   "id": "fd894af6",
   "metadata": {},
   "outputs": [
    {
     "data": {
      "text/plain": [
       "Rent\n",
       "15000    275\n",
       "10000    248\n",
       "12000    238\n",
       "20000    175\n",
       "8000     162\n",
       "        ... \n",
       "4600       1\n",
       "79500      1\n",
       "76000      1\n",
       "45002      1\n",
       "5800       1\n",
       "Name: count, Length: 243, dtype: int64"
      ]
     },
     "execution_count": 17,
     "metadata": {},
     "output_type": "execute_result"
    }
   ],
   "source": [
    "rentData['Rent'].value_counts()"
   ]
  },
  {
   "cell_type": "code",
   "execution_count": 18,
   "id": "66b34f4e",
   "metadata": {},
   "outputs": [],
   "source": [
    "#As we can see, there are only 1 record for some values which will leads to overfit the model\n",
    "#so it's better to remove those kind of rows for better performance"
   ]
  },
  {
   "cell_type": "code",
   "execution_count": 19,
   "id": "1202d1ac",
   "metadata": {},
   "outputs": [
    {
     "data": {
      "text/plain": [
       "4076    1200\n",
       "285     1500\n",
       "471     1800\n",
       "2475    2000\n",
       "146     2200\n",
       "Name: Rent, dtype: int64"
      ]
     },
     "execution_count": 19,
     "metadata": {},
     "output_type": "execute_result"
    }
   ],
   "source": [
    "#view top 5 lowest values for rent\n",
    "rentData['Rent'].sort_values(ascending=True)[:5]"
   ]
  },
  {
   "cell_type": "code",
   "execution_count": 20,
   "id": "5388e8fa",
   "metadata": {},
   "outputs": [
    {
     "data": {
      "text/html": [
       "<div>\n",
       "<style scoped>\n",
       "    .dataframe tbody tr th:only-of-type {\n",
       "        vertical-align: middle;\n",
       "    }\n",
       "\n",
       "    .dataframe tbody tr th {\n",
       "        vertical-align: top;\n",
       "    }\n",
       "\n",
       "    .dataframe thead th {\n",
       "        text-align: right;\n",
       "    }\n",
       "</style>\n",
       "<table border=\"1\" class=\"dataframe\">\n",
       "  <thead>\n",
       "    <tr style=\"text-align: right;\">\n",
       "      <th></th>\n",
       "      <th>BHK</th>\n",
       "      <th>Rent</th>\n",
       "      <th>Size</th>\n",
       "      <th>Floor</th>\n",
       "      <th>Area Type</th>\n",
       "      <th>Area Locality</th>\n",
       "      <th>City</th>\n",
       "      <th>Furnishing Status</th>\n",
       "      <th>Tenant Preferred</th>\n",
       "      <th>Bathroom</th>\n",
       "      <th>Point of Contact</th>\n",
       "    </tr>\n",
       "  </thead>\n",
       "  <tbody>\n",
       "    <tr>\n",
       "      <th>285</th>\n",
       "      <td>1</td>\n",
       "      <td>1500</td>\n",
       "      <td>200</td>\n",
       "      <td>Ground out of 2</td>\n",
       "      <td>Super Area</td>\n",
       "      <td>Santoshpur</td>\n",
       "      <td>Kolkata</td>\n",
       "      <td>Semi-Furnished</td>\n",
       "      <td>Bachelors/Family</td>\n",
       "      <td>1</td>\n",
       "      <td>Contact Owner</td>\n",
       "    </tr>\n",
       "    <tr>\n",
       "      <th>471</th>\n",
       "      <td>1</td>\n",
       "      <td>1800</td>\n",
       "      <td>500</td>\n",
       "      <td>Ground out of 1</td>\n",
       "      <td>Super Area</td>\n",
       "      <td>Shyam Bazar</td>\n",
       "      <td>Kolkata</td>\n",
       "      <td>Semi-Furnished</td>\n",
       "      <td>Bachelors/Family</td>\n",
       "      <td>1</td>\n",
       "      <td>Contact Owner</td>\n",
       "    </tr>\n",
       "    <tr>\n",
       "      <th>2475</th>\n",
       "      <td>2</td>\n",
       "      <td>2000</td>\n",
       "      <td>60</td>\n",
       "      <td>1 out of 1</td>\n",
       "      <td>Super Area</td>\n",
       "      <td>Ram Nagar</td>\n",
       "      <td>Delhi</td>\n",
       "      <td>Unfurnished</td>\n",
       "      <td>Bachelors/Family</td>\n",
       "      <td>1</td>\n",
       "      <td>Contact Owner</td>\n",
       "    </tr>\n",
       "    <tr>\n",
       "      <th>4076</th>\n",
       "      <td>3</td>\n",
       "      <td>1200</td>\n",
       "      <td>2100</td>\n",
       "      <td>1 out of 3</td>\n",
       "      <td>Carpet Area</td>\n",
       "      <td>Uppal, NH 2 2</td>\n",
       "      <td>Hyderabad</td>\n",
       "      <td>Furnished</td>\n",
       "      <td>Bachelors/Family</td>\n",
       "      <td>3</td>\n",
       "      <td>Contact Owner</td>\n",
       "    </tr>\n",
       "  </tbody>\n",
       "</table>\n",
       "</div>"
      ],
      "text/plain": [
       "      BHK  Rent  Size            Floor    Area Type  Area Locality       City   \n",
       "285     1  1500   200  Ground out of 2   Super Area     Santoshpur    Kolkata  \\\n",
       "471     1  1800   500  Ground out of 1   Super Area    Shyam Bazar    Kolkata   \n",
       "2475    2  2000    60       1 out of 1   Super Area      Ram Nagar      Delhi   \n",
       "4076    3  1200  2100       1 out of 3  Carpet Area  Uppal, NH 2 2  Hyderabad   \n",
       "\n",
       "     Furnishing Status  Tenant Preferred  Bathroom Point of Contact  \n",
       "285     Semi-Furnished  Bachelors/Family         1    Contact Owner  \n",
       "471     Semi-Furnished  Bachelors/Family         1    Contact Owner  \n",
       "2475       Unfurnished  Bachelors/Family         1    Contact Owner  \n",
       "4076         Furnished  Bachelors/Family         3    Contact Owner  "
      ]
     },
     "execution_count": 20,
     "metadata": {},
     "output_type": "execute_result"
    }
   ],
   "source": [
    "# Let's see the rows less than 2200 \n",
    "rentData[rentData['Rent'] < 2200]"
   ]
  },
  {
   "cell_type": "code",
   "execution_count": 21,
   "id": "20f01cbb",
   "metadata": {},
   "outputs": [
    {
     "data": {
      "text/plain": [
       "(4746, 11)"
      ]
     },
     "execution_count": 21,
     "metadata": {},
     "output_type": "execute_result"
    }
   ],
   "source": [
    "rentData.shape"
   ]
  },
  {
   "cell_type": "code",
   "execution_count": 22,
   "id": "3ecf0ee4",
   "metadata": {},
   "outputs": [],
   "source": [
    "# Since the dataset contains more than 4000 records, these seems to be outliers\n",
    "#therefore, let's delete these suspicious rows\n",
    "\n",
    "rentData.drop(285, axis=0, inplace=True)\n",
    "rentData.drop(471, axis=0, inplace=True)\n",
    "rentData.drop(2475, axis=0, inplace=True)\n",
    "rentData.drop(4076, axis=0, inplace=True)"
   ]
  },
  {
   "cell_type": "code",
   "execution_count": 23,
   "id": "04ad7c88",
   "metadata": {},
   "outputs": [
    {
     "data": {
      "text/plain": [
       "(4742, 11)"
      ]
     },
     "execution_count": 23,
     "metadata": {},
     "output_type": "execute_result"
    }
   ],
   "source": [
    "rentData.shape"
   ]
  },
  {
   "cell_type": "code",
   "execution_count": 24,
   "id": "029e2c69",
   "metadata": {},
   "outputs": [
    {
     "data": {
      "text/plain": [
       "1837    3500000\n",
       "1001    1200000\n",
       "827     1000000\n",
       "1329     850000\n",
       "1459     700000\n",
       "Name: Rent, dtype: int64"
      ]
     },
     "execution_count": 24,
     "metadata": {},
     "output_type": "execute_result"
    }
   ],
   "source": [
    "#view top 5 max values for rent\n",
    "rentData['Rent'].sort_values(ascending=False)[:5]"
   ]
  },
  {
   "cell_type": "code",
   "execution_count": 25,
   "id": "8f0f0c06",
   "metadata": {},
   "outputs": [
    {
     "data": {
      "text/html": [
       "<div>\n",
       "<style scoped>\n",
       "    .dataframe tbody tr th:only-of-type {\n",
       "        vertical-align: middle;\n",
       "    }\n",
       "\n",
       "    .dataframe tbody tr th {\n",
       "        vertical-align: top;\n",
       "    }\n",
       "\n",
       "    .dataframe thead th {\n",
       "        text-align: right;\n",
       "    }\n",
       "</style>\n",
       "<table border=\"1\" class=\"dataframe\">\n",
       "  <thead>\n",
       "    <tr style=\"text-align: right;\">\n",
       "      <th></th>\n",
       "      <th>BHK</th>\n",
       "      <th>Rent</th>\n",
       "      <th>Size</th>\n",
       "      <th>Floor</th>\n",
       "      <th>Area Type</th>\n",
       "      <th>Area Locality</th>\n",
       "      <th>City</th>\n",
       "      <th>Furnishing Status</th>\n",
       "      <th>Tenant Preferred</th>\n",
       "      <th>Bathroom</th>\n",
       "      <th>Point of Contact</th>\n",
       "    </tr>\n",
       "  </thead>\n",
       "  <tbody>\n",
       "    <tr>\n",
       "      <th>827</th>\n",
       "      <td>4</td>\n",
       "      <td>1000000</td>\n",
       "      <td>3064</td>\n",
       "      <td>18 out of 45</td>\n",
       "      <td>Carpet Area</td>\n",
       "      <td>Raheja Artesia, Worli</td>\n",
       "      <td>Mumbai</td>\n",
       "      <td>Semi-Furnished</td>\n",
       "      <td>Family</td>\n",
       "      <td>4</td>\n",
       "      <td>Contact Agent</td>\n",
       "    </tr>\n",
       "    <tr>\n",
       "      <th>1001</th>\n",
       "      <td>4</td>\n",
       "      <td>1200000</td>\n",
       "      <td>5000</td>\n",
       "      <td>4 out of 15</td>\n",
       "      <td>Carpet Area</td>\n",
       "      <td>Juhu</td>\n",
       "      <td>Mumbai</td>\n",
       "      <td>Semi-Furnished</td>\n",
       "      <td>Bachelors/Family</td>\n",
       "      <td>4</td>\n",
       "      <td>Contact Agent</td>\n",
       "    </tr>\n",
       "    <tr>\n",
       "      <th>1329</th>\n",
       "      <td>4</td>\n",
       "      <td>850000</td>\n",
       "      <td>3200</td>\n",
       "      <td>2 out of 4</td>\n",
       "      <td>Carpet Area</td>\n",
       "      <td>Breach Candy</td>\n",
       "      <td>Mumbai</td>\n",
       "      <td>Furnished</td>\n",
       "      <td>Bachelors/Family</td>\n",
       "      <td>4</td>\n",
       "      <td>Contact Agent</td>\n",
       "    </tr>\n",
       "    <tr>\n",
       "      <th>1837</th>\n",
       "      <td>3</td>\n",
       "      <td>3500000</td>\n",
       "      <td>2500</td>\n",
       "      <td>4 out of 4</td>\n",
       "      <td>Carpet Area</td>\n",
       "      <td>Marathahalli</td>\n",
       "      <td>Bangalore</td>\n",
       "      <td>Semi-Furnished</td>\n",
       "      <td>Bachelors</td>\n",
       "      <td>3</td>\n",
       "      <td>Contact Agent</td>\n",
       "    </tr>\n",
       "  </tbody>\n",
       "</table>\n",
       "</div>"
      ],
      "text/plain": [
       "      BHK     Rent  Size         Floor    Area Type          Area Locality   \n",
       "827     4  1000000  3064  18 out of 45  Carpet Area  Raheja Artesia, Worli  \\\n",
       "1001    4  1200000  5000   4 out of 15  Carpet Area                   Juhu   \n",
       "1329    4   850000  3200    2 out of 4  Carpet Area           Breach Candy   \n",
       "1837    3  3500000  2500    4 out of 4  Carpet Area           Marathahalli   \n",
       "\n",
       "           City Furnishing Status  Tenant Preferred  Bathroom Point of Contact  \n",
       "827      Mumbai    Semi-Furnished            Family         4    Contact Agent  \n",
       "1001     Mumbai    Semi-Furnished  Bachelors/Family         4    Contact Agent  \n",
       "1329     Mumbai         Furnished  Bachelors/Family         4    Contact Agent  \n",
       "1837  Bangalore    Semi-Furnished         Bachelors         3    Contact Agent  "
      ]
     },
     "execution_count": 25,
     "metadata": {},
     "output_type": "execute_result"
    }
   ],
   "source": [
    "# Let's see the rows max than 700000 \n",
    "rentData[rentData['Rent'] > 700000]"
   ]
  },
  {
   "cell_type": "code",
   "execution_count": 26,
   "id": "11cd0812",
   "metadata": {},
   "outputs": [],
   "source": [
    "# Since the dataset contains more than 4000 records, these seems to be outliers\n",
    "#therefore, let's delete these suspicious rows\n",
    "\n",
    "rentData.drop(827, axis=0, inplace=True)\n",
    "rentData.drop(1001, axis=0, inplace=True)\n",
    "rentData.drop(1329, axis=0, inplace=True)\n",
    "rentData.drop(1837, axis=0, inplace=True)"
   ]
  },
  {
   "cell_type": "code",
   "execution_count": 27,
   "id": "44b1bd16",
   "metadata": {},
   "outputs": [
    {
     "data": {
      "text/plain": [
       "(4738, 11)"
      ]
     },
     "execution_count": 27,
     "metadata": {},
     "output_type": "execute_result"
    }
   ],
   "source": [
    "rentData.shape"
   ]
  },
  {
   "cell_type": "markdown",
   "id": "425cca41",
   "metadata": {},
   "source": [
    "# Col4 - Size"
   ]
  },
  {
   "cell_type": "code",
   "execution_count": 28,
   "id": "fb16b895",
   "metadata": {},
   "outputs": [
    {
     "data": {
      "text/plain": [
       "count    4738.000000\n",
       "mean      965.615661\n",
       "std       629.574955\n",
       "min        10.000000\n",
       "25%       550.000000\n",
       "50%       850.000000\n",
       "75%      1200.000000\n",
       "max      8000.000000\n",
       "Name: Size, dtype: float64"
      ]
     },
     "execution_count": 28,
     "metadata": {},
     "output_type": "execute_result"
    }
   ],
   "source": [
    "#Statistical data of the Size column\n",
    "rentData['Size'].describe()"
   ]
  },
  {
   "cell_type": "code",
   "execution_count": 136,
   "id": "830b40a2",
   "metadata": {},
   "outputs": [
    {
     "data": {
      "image/png": "[encoded data removed]",
      "text/plain": [
       "<Figure size 800x700 with 1 Axes>"
      ]
     },
     "metadata": {},
     "output_type": "display_data"
    }
   ],
   "source": [
    "fig, ax = plt.subplots(figsize=(8, 7))\n",
    "sns.boxplot(data=initialRentData, x='BHK', y='Size', palette='Set1', ax=ax)\n",
    "plt.show()"
   ]
  },
  {
   "cell_type": "markdown",
   "id": "283e717d",
   "metadata": {},
   "source": [
    "#As per the above graph, we can see when the size getting increased, BHK increasing too\n",
    "#And we can see some outliers as well, therefore, this column needs to modify"
   ]
  },
  {
   "cell_type": "code",
   "execution_count": 29,
   "id": "099a8cf5",
   "metadata": {},
   "outputs": [],
   "source": [
    "#As we can see the distribution of the size (std) is 629.57 which is not normal\n",
    "# Therefore, let's scale the size column using minmax scaler\n",
    "\n",
    "\n",
    "scaler = MinMaxScaler()\n",
    "rentData['Size'] = scaler.fit_transform(rentData[['Size']])"
   ]
  },
  {
   "cell_type": "code",
   "execution_count": 30,
   "id": "125d2397",
   "metadata": {},
   "outputs": [
    {
     "data": {
      "text/html": [
       "<div>\n",
       "<style scoped>\n",
       "    .dataframe tbody tr th:only-of-type {\n",
       "        vertical-align: middle;\n",
       "    }\n",
       "\n",
       "    .dataframe tbody tr th {\n",
       "        vertical-align: top;\n",
       "    }\n",
       "\n",
       "    .dataframe thead th {\n",
       "        text-align: right;\n",
       "    }\n",
       "</style>\n",
       "<table border=\"1\" class=\"dataframe\">\n",
       "  <thead>\n",
       "    <tr style=\"text-align: right;\">\n",
       "      <th></th>\n",
       "      <th>BHK</th>\n",
       "      <th>Rent</th>\n",
       "      <th>Size</th>\n",
       "      <th>Floor</th>\n",
       "      <th>Area Type</th>\n",
       "      <th>Area Locality</th>\n",
       "      <th>City</th>\n",
       "      <th>Furnishing Status</th>\n",
       "      <th>Tenant Preferred</th>\n",
       "      <th>Bathroom</th>\n",
       "      <th>Point of Contact</th>\n",
       "    </tr>\n",
       "  </thead>\n",
       "  <tbody>\n",
       "    <tr>\n",
       "      <th>0</th>\n",
       "      <td>2</td>\n",
       "      <td>10000</td>\n",
       "      <td>0.136421</td>\n",
       "      <td>Ground out of 2</td>\n",
       "      <td>Super Area</td>\n",
       "      <td>Bandel</td>\n",
       "      <td>Kolkata</td>\n",
       "      <td>Unfurnished</td>\n",
       "      <td>Bachelors/Family</td>\n",
       "      <td>2</td>\n",
       "      <td>Contact Owner</td>\n",
       "    </tr>\n",
       "    <tr>\n",
       "      <th>1</th>\n",
       "      <td>2</td>\n",
       "      <td>20000</td>\n",
       "      <td>0.098874</td>\n",
       "      <td>1 out of 3</td>\n",
       "      <td>Super Area</td>\n",
       "      <td>Phool Bagan, Kankurgachi</td>\n",
       "      <td>Kolkata</td>\n",
       "      <td>Semi-Furnished</td>\n",
       "      <td>Bachelors/Family</td>\n",
       "      <td>1</td>\n",
       "      <td>Contact Owner</td>\n",
       "    </tr>\n",
       "    <tr>\n",
       "      <th>2</th>\n",
       "      <td>2</td>\n",
       "      <td>17000</td>\n",
       "      <td>0.123905</td>\n",
       "      <td>1 out of 3</td>\n",
       "      <td>Super Area</td>\n",
       "      <td>Salt Lake City Sector 2</td>\n",
       "      <td>Kolkata</td>\n",
       "      <td>Semi-Furnished</td>\n",
       "      <td>Bachelors/Family</td>\n",
       "      <td>1</td>\n",
       "      <td>Contact Owner</td>\n",
       "    </tr>\n",
       "    <tr>\n",
       "      <th>3</th>\n",
       "      <td>2</td>\n",
       "      <td>10000</td>\n",
       "      <td>0.098874</td>\n",
       "      <td>1 out of 2</td>\n",
       "      <td>Super Area</td>\n",
       "      <td>Dumdum Park</td>\n",
       "      <td>Kolkata</td>\n",
       "      <td>Unfurnished</td>\n",
       "      <td>Bachelors/Family</td>\n",
       "      <td>1</td>\n",
       "      <td>Contact Owner</td>\n",
       "    </tr>\n",
       "    <tr>\n",
       "      <th>4</th>\n",
       "      <td>2</td>\n",
       "      <td>7500</td>\n",
       "      <td>0.105131</td>\n",
       "      <td>1 out of 2</td>\n",
       "      <td>Carpet Area</td>\n",
       "      <td>South Dum Dum</td>\n",
       "      <td>Kolkata</td>\n",
       "      <td>Unfurnished</td>\n",
       "      <td>Bachelors</td>\n",
       "      <td>1</td>\n",
       "      <td>Contact Owner</td>\n",
       "    </tr>\n",
       "  </tbody>\n",
       "</table>\n",
       "</div>"
      ],
      "text/plain": [
       "   BHK   Rent      Size            Floor    Area Type   \n",
       "0    2  10000  0.136421  Ground out of 2   Super Area  \\\n",
       "1    2  20000  0.098874       1 out of 3   Super Area   \n",
       "2    2  17000  0.123905       1 out of 3   Super Area   \n",
       "3    2  10000  0.098874       1 out of 2   Super Area   \n",
       "4    2   7500  0.105131       1 out of 2  Carpet Area   \n",
       "\n",
       "              Area Locality     City Furnishing Status  Tenant Preferred   \n",
       "0                    Bandel  Kolkata       Unfurnished  Bachelors/Family  \\\n",
       "1  Phool Bagan, Kankurgachi  Kolkata    Semi-Furnished  Bachelors/Family   \n",
       "2   Salt Lake City Sector 2  Kolkata    Semi-Furnished  Bachelors/Family   \n",
       "3               Dumdum Park  Kolkata       Unfurnished  Bachelors/Family   \n",
       "4             South Dum Dum  Kolkata       Unfurnished         Bachelors   \n",
       "\n",
       "   Bathroom Point of Contact  \n",
       "0         2    Contact Owner  \n",
       "1         1    Contact Owner  \n",
       "2         1    Contact Owner  \n",
       "3         1    Contact Owner  \n",
       "4         1    Contact Owner  "
      ]
     },
     "execution_count": 30,
     "metadata": {},
     "output_type": "execute_result"
    }
   ],
   "source": [
    "rentData.head()\n",
    "#Size column has scaled as below due to the abnormal behavior"
   ]
  },
  {
   "cell_type": "code",
   "execution_count": 31,
   "id": "8da2b13b",
   "metadata": {},
   "outputs": [
    {
     "data": {
      "text/plain": [
       "count    4738.000000\n",
       "mean        0.119601\n",
       "std         0.078795\n",
       "min         0.000000\n",
       "25%         0.067584\n",
       "50%         0.105131\n",
       "75%         0.148936\n",
       "max         1.000000\n",
       "Name: Size, dtype: float64"
      ]
     },
     "execution_count": 31,
     "metadata": {},
     "output_type": "execute_result"
    }
   ],
   "source": [
    "#Statistical data of the Size column\n",
    "rentData['Size'].describe()\n",
    "\n",
    "#Abnormal distribution has reduced"
   ]
  },
  {
   "cell_type": "markdown",
   "id": "362d5ddf",
   "metadata": {},
   "source": [
    "# Col5 - Floor"
   ]
  },
  {
   "cell_type": "code",
   "execution_count": 32,
   "id": "2bf9be9b",
   "metadata": {},
   "outputs": [
    {
     "data": {
      "text/plain": [
       "Floor\n",
       "1 out of 2         379\n",
       "Ground out of 2    349\n",
       "2 out of 3         312\n",
       "2 out of 4         307\n",
       "1 out of 3         292\n",
       "                  ... \n",
       "11 out of 31         1\n",
       "50 out of 75         1\n",
       "18 out of 26         1\n",
       "12 out of 27         1\n",
       "23 out of 34         1\n",
       "Name: count, Length: 479, dtype: int64"
      ]
     },
     "execution_count": 32,
     "metadata": {},
     "output_type": "execute_result"
    }
   ],
   "source": [
    "rentData['Floor'].value_counts()"
   ]
  },
  {
   "cell_type": "code",
   "execution_count": 33,
   "id": "e2260455",
   "metadata": {},
   "outputs": [
    {
     "data": {
      "text/plain": [
       "count           4738\n",
       "unique           479\n",
       "top       1 out of 2\n",
       "freq             379\n",
       "Name: Floor, dtype: object"
      ]
     },
     "execution_count": 33,
     "metadata": {},
     "output_type": "execute_result"
    }
   ],
   "source": [
    "#Statistical data of the Floor column\n",
    "rentData['Floor'].describe()"
   ]
  },
  {
   "cell_type": "code",
   "execution_count": 34,
   "id": "d7b6977f",
   "metadata": {},
   "outputs": [],
   "source": [
    "#As per the above result, there are 479 unique values\n",
    "#therefore, we need to preprocess the values to give some meaningful values"
   ]
  },
  {
   "cell_type": "code",
   "execution_count": 35,
   "id": "22e3ac9c",
   "metadata": {},
   "outputs": [],
   "source": [
    "#Function to get the living floor from the floor column values\n",
    "#Existing values are like -> 2, 9 out of 9, Ground, Ground out of 1 Upper Basement out of 16, Lower Basement out of 2\n",
    "\n",
    "def set_livingFloor(inpt):\n",
    "    if inpt == 'Ground':\n",
    "        return 0\n",
    "    else:\n",
    "        segs = inpt.split()\n",
    "        if len(segs) > 0:\n",
    "            if segs[0] == 'Upper':\n",
    "                return -1\n",
    "            elif segs[0] == 'Lower':\n",
    "                return -2\n",
    "            elif segs[0] == 'Ground':\n",
    "                return 0\n",
    "            else:\n",
    "                return segs[0]\n",
    "        else:\n",
    "            return segs"
   ]
  },
  {
   "cell_type": "code",
   "execution_count": 36,
   "id": "2890fa92",
   "metadata": {},
   "outputs": [],
   "source": [
    "#Function to get the total floors of the house/apt/building from the floor column values\n",
    "#Existing values are like -> 2, 9 out of 9, Ground, Ground out of 1 Upper Basement out of 16, Lower Basement out of 2\n",
    "\n",
    "def set_totalFloors(inpt):\n",
    "    if inpt == 'Ground':\n",
    "        return 0\n",
    "    else:\n",
    "        segs = inpt.split()\n",
    "        if len(segs) > 0:\n",
    "            return segs[-1]\n",
    "        else:\n",
    "            return segs"
   ]
  },
  {
   "cell_type": "code",
   "execution_count": 37,
   "id": "5257493e",
   "metadata": {},
   "outputs": [
    {
     "data": {
      "text/plain": [
       "(4738, 11)"
      ]
     },
     "execution_count": 37,
     "metadata": {},
     "output_type": "execute_result"
    }
   ],
   "source": [
    "rentData.shape"
   ]
  },
  {
   "cell_type": "code",
   "execution_count": 38,
   "id": "9e1db118",
   "metadata": {},
   "outputs": [
    {
     "data": {
      "text/html": [
       "<div>\n",
       "<style scoped>\n",
       "    .dataframe tbody tr th:only-of-type {\n",
       "        vertical-align: middle;\n",
       "    }\n",
       "\n",
       "    .dataframe tbody tr th {\n",
       "        vertical-align: top;\n",
       "    }\n",
       "\n",
       "    .dataframe thead th {\n",
       "        text-align: right;\n",
       "    }\n",
       "</style>\n",
       "<table border=\"1\" class=\"dataframe\">\n",
       "  <thead>\n",
       "    <tr style=\"text-align: right;\">\n",
       "      <th></th>\n",
       "      <th>BHK</th>\n",
       "      <th>Rent</th>\n",
       "      <th>Size</th>\n",
       "      <th>Floor</th>\n",
       "      <th>Area Type</th>\n",
       "      <th>Area Locality</th>\n",
       "      <th>City</th>\n",
       "      <th>Furnishing Status</th>\n",
       "      <th>Tenant Preferred</th>\n",
       "      <th>Bathroom</th>\n",
       "      <th>Point of Contact</th>\n",
       "    </tr>\n",
       "  </thead>\n",
       "  <tbody>\n",
       "    <tr>\n",
       "      <th>0</th>\n",
       "      <td>2</td>\n",
       "      <td>10000</td>\n",
       "      <td>0.136421</td>\n",
       "      <td>Ground out of 2</td>\n",
       "      <td>Super Area</td>\n",
       "      <td>Bandel</td>\n",
       "      <td>Kolkata</td>\n",
       "      <td>Unfurnished</td>\n",
       "      <td>Bachelors/Family</td>\n",
       "      <td>2</td>\n",
       "      <td>Contact Owner</td>\n",
       "    </tr>\n",
       "    <tr>\n",
       "      <th>1</th>\n",
       "      <td>2</td>\n",
       "      <td>20000</td>\n",
       "      <td>0.098874</td>\n",
       "      <td>1 out of 3</td>\n",
       "      <td>Super Area</td>\n",
       "      <td>Phool Bagan, Kankurgachi</td>\n",
       "      <td>Kolkata</td>\n",
       "      <td>Semi-Furnished</td>\n",
       "      <td>Bachelors/Family</td>\n",
       "      <td>1</td>\n",
       "      <td>Contact Owner</td>\n",
       "    </tr>\n",
       "    <tr>\n",
       "      <th>2</th>\n",
       "      <td>2</td>\n",
       "      <td>17000</td>\n",
       "      <td>0.123905</td>\n",
       "      <td>1 out of 3</td>\n",
       "      <td>Super Area</td>\n",
       "      <td>Salt Lake City Sector 2</td>\n",
       "      <td>Kolkata</td>\n",
       "      <td>Semi-Furnished</td>\n",
       "      <td>Bachelors/Family</td>\n",
       "      <td>1</td>\n",
       "      <td>Contact Owner</td>\n",
       "    </tr>\n",
       "    <tr>\n",
       "      <th>3</th>\n",
       "      <td>2</td>\n",
       "      <td>10000</td>\n",
       "      <td>0.098874</td>\n",
       "      <td>1 out of 2</td>\n",
       "      <td>Super Area</td>\n",
       "      <td>Dumdum Park</td>\n",
       "      <td>Kolkata</td>\n",
       "      <td>Unfurnished</td>\n",
       "      <td>Bachelors/Family</td>\n",
       "      <td>1</td>\n",
       "      <td>Contact Owner</td>\n",
       "    </tr>\n",
       "    <tr>\n",
       "      <th>4</th>\n",
       "      <td>2</td>\n",
       "      <td>7500</td>\n",
       "      <td>0.105131</td>\n",
       "      <td>1 out of 2</td>\n",
       "      <td>Carpet Area</td>\n",
       "      <td>South Dum Dum</td>\n",
       "      <td>Kolkata</td>\n",
       "      <td>Unfurnished</td>\n",
       "      <td>Bachelors</td>\n",
       "      <td>1</td>\n",
       "      <td>Contact Owner</td>\n",
       "    </tr>\n",
       "    <tr>\n",
       "      <th>5</th>\n",
       "      <td>2</td>\n",
       "      <td>7000</td>\n",
       "      <td>0.073842</td>\n",
       "      <td>Ground out of 1</td>\n",
       "      <td>Super Area</td>\n",
       "      <td>Thakurpukur</td>\n",
       "      <td>Kolkata</td>\n",
       "      <td>Unfurnished</td>\n",
       "      <td>Bachelors/Family</td>\n",
       "      <td>2</td>\n",
       "      <td>Contact Owner</td>\n",
       "    </tr>\n",
       "    <tr>\n",
       "      <th>6</th>\n",
       "      <td>2</td>\n",
       "      <td>10000</td>\n",
       "      <td>0.086358</td>\n",
       "      <td>Ground out of 4</td>\n",
       "      <td>Super Area</td>\n",
       "      <td>Malancha</td>\n",
       "      <td>Kolkata</td>\n",
       "      <td>Unfurnished</td>\n",
       "      <td>Bachelors</td>\n",
       "      <td>2</td>\n",
       "      <td>Contact Agent</td>\n",
       "    </tr>\n",
       "    <tr>\n",
       "      <th>7</th>\n",
       "      <td>1</td>\n",
       "      <td>5000</td>\n",
       "      <td>0.030038</td>\n",
       "      <td>1 out of 2</td>\n",
       "      <td>Super Area</td>\n",
       "      <td>Malancha</td>\n",
       "      <td>Kolkata</td>\n",
       "      <td>Unfurnished</td>\n",
       "      <td>Bachelors</td>\n",
       "      <td>1</td>\n",
       "      <td>Contact Agent</td>\n",
       "    </tr>\n",
       "    <tr>\n",
       "      <th>8</th>\n",
       "      <td>2</td>\n",
       "      <td>26000</td>\n",
       "      <td>0.098874</td>\n",
       "      <td>1 out of 2</td>\n",
       "      <td>Carpet Area</td>\n",
       "      <td>Palm Avenue Kolkata, Ballygunge</td>\n",
       "      <td>Kolkata</td>\n",
       "      <td>Unfurnished</td>\n",
       "      <td>Bachelors</td>\n",
       "      <td>2</td>\n",
       "      <td>Contact Agent</td>\n",
       "    </tr>\n",
       "    <tr>\n",
       "      <th>9</th>\n",
       "      <td>2</td>\n",
       "      <td>10000</td>\n",
       "      <td>0.123905</td>\n",
       "      <td>1 out of 3</td>\n",
       "      <td>Carpet Area</td>\n",
       "      <td>Natunhat</td>\n",
       "      <td>Kolkata</td>\n",
       "      <td>Semi-Furnished</td>\n",
       "      <td>Bachelors/Family</td>\n",
       "      <td>2</td>\n",
       "      <td>Contact Owner</td>\n",
       "    </tr>\n",
       "  </tbody>\n",
       "</table>\n",
       "</div>"
      ],
      "text/plain": [
       "   BHK   Rent      Size            Floor    Area Type   \n",
       "0    2  10000  0.136421  Ground out of 2   Super Area  \\\n",
       "1    2  20000  0.098874       1 out of 3   Super Area   \n",
       "2    2  17000  0.123905       1 out of 3   Super Area   \n",
       "3    2  10000  0.098874       1 out of 2   Super Area   \n",
       "4    2   7500  0.105131       1 out of 2  Carpet Area   \n",
       "5    2   7000  0.073842  Ground out of 1   Super Area   \n",
       "6    2  10000  0.086358  Ground out of 4   Super Area   \n",
       "7    1   5000  0.030038       1 out of 2   Super Area   \n",
       "8    2  26000  0.098874       1 out of 2  Carpet Area   \n",
       "9    2  10000  0.123905       1 out of 3  Carpet Area   \n",
       "\n",
       "                     Area Locality     City Furnishing Status   \n",
       "0                           Bandel  Kolkata       Unfurnished  \\\n",
       "1         Phool Bagan, Kankurgachi  Kolkata    Semi-Furnished   \n",
       "2          Salt Lake City Sector 2  Kolkata    Semi-Furnished   \n",
       "3                      Dumdum Park  Kolkata       Unfurnished   \n",
       "4                    South Dum Dum  Kolkata       Unfurnished   \n",
       "5                      Thakurpukur  Kolkata       Unfurnished   \n",
       "6                         Malancha  Kolkata       Unfurnished   \n",
       "7                         Malancha  Kolkata       Unfurnished   \n",
       "8  Palm Avenue Kolkata, Ballygunge  Kolkata       Unfurnished   \n",
       "9                         Natunhat  Kolkata    Semi-Furnished   \n",
       "\n",
       "   Tenant Preferred  Bathroom Point of Contact  \n",
       "0  Bachelors/Family         2    Contact Owner  \n",
       "1  Bachelors/Family         1    Contact Owner  \n",
       "2  Bachelors/Family         1    Contact Owner  \n",
       "3  Bachelors/Family         1    Contact Owner  \n",
       "4         Bachelors         1    Contact Owner  \n",
       "5  Bachelors/Family         2    Contact Owner  \n",
       "6         Bachelors         2    Contact Agent  \n",
       "7         Bachelors         1    Contact Agent  \n",
       "8         Bachelors         2    Contact Agent  \n",
       "9  Bachelors/Family         2    Contact Owner  "
      ]
     },
     "execution_count": 38,
     "metadata": {},
     "output_type": "execute_result"
    }
   ],
   "source": [
    "rentData.head(10)"
   ]
  },
  {
   "cell_type": "code",
   "execution_count": 39,
   "id": "b9dbc937",
   "metadata": {},
   "outputs": [],
   "source": [
    "#create a new column as 'Living floor' by using the above created function\n",
    "\n",
    "rentData['Living floor'] = rentData['Floor'].apply(set_livingFloor)\n",
    "\n",
    "#create a new column as 'Total floors' by using the above created function\n",
    "\n",
    "rentData['Total floors'] = rentData['Floor'].apply(set_totalFloors)"
   ]
  },
  {
   "cell_type": "code",
   "execution_count": 40,
   "id": "1af65c6c",
   "metadata": {},
   "outputs": [
    {
     "data": {
      "text/plain": [
       "(4738, 13)"
      ]
     },
     "execution_count": 40,
     "metadata": {},
     "output_type": "execute_result"
    }
   ],
   "source": [
    "rentData.shape"
   ]
  },
  {
   "cell_type": "code",
   "execution_count": 47,
   "id": "882b8c8d",
   "metadata": {},
   "outputs": [
    {
     "data": {
      "text/html": [
       "<div>\n",
       "<style scoped>\n",
       "    .dataframe tbody tr th:only-of-type {\n",
       "        vertical-align: middle;\n",
       "    }\n",
       "\n",
       "    .dataframe tbody tr th {\n",
       "        vertical-align: top;\n",
       "    }\n",
       "\n",
       "    .dataframe thead th {\n",
       "        text-align: right;\n",
       "    }\n",
       "</style>\n",
       "<table border=\"1\" class=\"dataframe\">\n",
       "  <thead>\n",
       "    <tr style=\"text-align: right;\">\n",
       "      <th></th>\n",
       "      <th>BHK</th>\n",
       "      <th>Rent</th>\n",
       "      <th>Size</th>\n",
       "      <th>Floor</th>\n",
       "      <th>Area Type</th>\n",
       "      <th>Area Locality</th>\n",
       "      <th>City</th>\n",
       "      <th>Furnishing Status</th>\n",
       "      <th>Tenant Preferred</th>\n",
       "      <th>Bathroom</th>\n",
       "      <th>Point of Contact</th>\n",
       "      <th>Living floor</th>\n",
       "      <th>Total floors</th>\n",
       "    </tr>\n",
       "  </thead>\n",
       "  <tbody>\n",
       "    <tr>\n",
       "      <th>0</th>\n",
       "      <td>2</td>\n",
       "      <td>10000</td>\n",
       "      <td>0.136421</td>\n",
       "      <td>Ground out of 2</td>\n",
       "      <td>Super Area</td>\n",
       "      <td>Bandel</td>\n",
       "      <td>Kolkata</td>\n",
       "      <td>Unfurnished</td>\n",
       "      <td>Bachelors/Family</td>\n",
       "      <td>2</td>\n",
       "      <td>Contact Owner</td>\n",
       "      <td>0</td>\n",
       "      <td>2</td>\n",
       "    </tr>\n",
       "    <tr>\n",
       "      <th>1</th>\n",
       "      <td>2</td>\n",
       "      <td>20000</td>\n",
       "      <td>0.098874</td>\n",
       "      <td>1 out of 3</td>\n",
       "      <td>Super Area</td>\n",
       "      <td>Phool Bagan, Kankurgachi</td>\n",
       "      <td>Kolkata</td>\n",
       "      <td>Semi-Furnished</td>\n",
       "      <td>Bachelors/Family</td>\n",
       "      <td>1</td>\n",
       "      <td>Contact Owner</td>\n",
       "      <td>1</td>\n",
       "      <td>3</td>\n",
       "    </tr>\n",
       "    <tr>\n",
       "      <th>2</th>\n",
       "      <td>2</td>\n",
       "      <td>17000</td>\n",
       "      <td>0.123905</td>\n",
       "      <td>1 out of 3</td>\n",
       "      <td>Super Area</td>\n",
       "      <td>Salt Lake City Sector 2</td>\n",
       "      <td>Kolkata</td>\n",
       "      <td>Semi-Furnished</td>\n",
       "      <td>Bachelors/Family</td>\n",
       "      <td>1</td>\n",
       "      <td>Contact Owner</td>\n",
       "      <td>1</td>\n",
       "      <td>3</td>\n",
       "    </tr>\n",
       "    <tr>\n",
       "      <th>3</th>\n",
       "      <td>2</td>\n",
       "      <td>10000</td>\n",
       "      <td>0.098874</td>\n",
       "      <td>1 out of 2</td>\n",
       "      <td>Super Area</td>\n",
       "      <td>Dumdum Park</td>\n",
       "      <td>Kolkata</td>\n",
       "      <td>Unfurnished</td>\n",
       "      <td>Bachelors/Family</td>\n",
       "      <td>1</td>\n",
       "      <td>Contact Owner</td>\n",
       "      <td>1</td>\n",
       "      <td>2</td>\n",
       "    </tr>\n",
       "    <tr>\n",
       "      <th>4</th>\n",
       "      <td>2</td>\n",
       "      <td>7500</td>\n",
       "      <td>0.105131</td>\n",
       "      <td>1 out of 2</td>\n",
       "      <td>Carpet Area</td>\n",
       "      <td>South Dum Dum</td>\n",
       "      <td>Kolkata</td>\n",
       "      <td>Unfurnished</td>\n",
       "      <td>Bachelors</td>\n",
       "      <td>1</td>\n",
       "      <td>Contact Owner</td>\n",
       "      <td>1</td>\n",
       "      <td>2</td>\n",
       "    </tr>\n",
       "    <tr>\n",
       "      <th>5</th>\n",
       "      <td>2</td>\n",
       "      <td>7000</td>\n",
       "      <td>0.073842</td>\n",
       "      <td>Ground out of 1</td>\n",
       "      <td>Super Area</td>\n",
       "      <td>Thakurpukur</td>\n",
       "      <td>Kolkata</td>\n",
       "      <td>Unfurnished</td>\n",
       "      <td>Bachelors/Family</td>\n",
       "      <td>2</td>\n",
       "      <td>Contact Owner</td>\n",
       "      <td>0</td>\n",
       "      <td>1</td>\n",
       "    </tr>\n",
       "    <tr>\n",
       "      <th>6</th>\n",
       "      <td>2</td>\n",
       "      <td>10000</td>\n",
       "      <td>0.086358</td>\n",
       "      <td>Ground out of 4</td>\n",
       "      <td>Super Area</td>\n",
       "      <td>Malancha</td>\n",
       "      <td>Kolkata</td>\n",
       "      <td>Unfurnished</td>\n",
       "      <td>Bachelors</td>\n",
       "      <td>2</td>\n",
       "      <td>Contact Agent</td>\n",
       "      <td>0</td>\n",
       "      <td>4</td>\n",
       "    </tr>\n",
       "    <tr>\n",
       "      <th>7</th>\n",
       "      <td>1</td>\n",
       "      <td>5000</td>\n",
       "      <td>0.030038</td>\n",
       "      <td>1 out of 2</td>\n",
       "      <td>Super Area</td>\n",
       "      <td>Malancha</td>\n",
       "      <td>Kolkata</td>\n",
       "      <td>Unfurnished</td>\n",
       "      <td>Bachelors</td>\n",
       "      <td>1</td>\n",
       "      <td>Contact Agent</td>\n",
       "      <td>1</td>\n",
       "      <td>2</td>\n",
       "    </tr>\n",
       "    <tr>\n",
       "      <th>8</th>\n",
       "      <td>2</td>\n",
       "      <td>26000</td>\n",
       "      <td>0.098874</td>\n",
       "      <td>1 out of 2</td>\n",
       "      <td>Carpet Area</td>\n",
       "      <td>Palm Avenue Kolkata, Ballygunge</td>\n",
       "      <td>Kolkata</td>\n",
       "      <td>Unfurnished</td>\n",
       "      <td>Bachelors</td>\n",
       "      <td>2</td>\n",
       "      <td>Contact Agent</td>\n",
       "      <td>1</td>\n",
       "      <td>2</td>\n",
       "    </tr>\n",
       "    <tr>\n",
       "      <th>9</th>\n",
       "      <td>2</td>\n",
       "      <td>10000</td>\n",
       "      <td>0.123905</td>\n",
       "      <td>1 out of 3</td>\n",
       "      <td>Carpet Area</td>\n",
       "      <td>Natunhat</td>\n",
       "      <td>Kolkata</td>\n",
       "      <td>Semi-Furnished</td>\n",
       "      <td>Bachelors/Family</td>\n",
       "      <td>2</td>\n",
       "      <td>Contact Owner</td>\n",
       "      <td>1</td>\n",
       "      <td>3</td>\n",
       "    </tr>\n",
       "  </tbody>\n",
       "</table>\n",
       "</div>"
      ],
      "text/plain": [
       "   BHK   Rent      Size            Floor    Area Type   \n",
       "0    2  10000  0.136421  Ground out of 2   Super Area  \\\n",
       "1    2  20000  0.098874       1 out of 3   Super Area   \n",
       "2    2  17000  0.123905       1 out of 3   Super Area   \n",
       "3    2  10000  0.098874       1 out of 2   Super Area   \n",
       "4    2   7500  0.105131       1 out of 2  Carpet Area   \n",
       "5    2   7000  0.073842  Ground out of 1   Super Area   \n",
       "6    2  10000  0.086358  Ground out of 4   Super Area   \n",
       "7    1   5000  0.030038       1 out of 2   Super Area   \n",
       "8    2  26000  0.098874       1 out of 2  Carpet Area   \n",
       "9    2  10000  0.123905       1 out of 3  Carpet Area   \n",
       "\n",
       "                     Area Locality     City Furnishing Status   \n",
       "0                           Bandel  Kolkata       Unfurnished  \\\n",
       "1         Phool Bagan, Kankurgachi  Kolkata    Semi-Furnished   \n",
       "2          Salt Lake City Sector 2  Kolkata    Semi-Furnished   \n",
       "3                      Dumdum Park  Kolkata       Unfurnished   \n",
       "4                    South Dum Dum  Kolkata       Unfurnished   \n",
       "5                      Thakurpukur  Kolkata       Unfurnished   \n",
       "6                         Malancha  Kolkata       Unfurnished   \n",
       "7                         Malancha  Kolkata       Unfurnished   \n",
       "8  Palm Avenue Kolkata, Ballygunge  Kolkata       Unfurnished   \n",
       "9                         Natunhat  Kolkata    Semi-Furnished   \n",
       "\n",
       "   Tenant Preferred  Bathroom Point of Contact Living floor Total floors  \n",
       "0  Bachelors/Family         2    Contact Owner            0            2  \n",
       "1  Bachelors/Family         1    Contact Owner            1            3  \n",
       "2  Bachelors/Family         1    Contact Owner            1            3  \n",
       "3  Bachelors/Family         1    Contact Owner            1            2  \n",
       "4         Bachelors         1    Contact Owner            1            2  \n",
       "5  Bachelors/Family         2    Contact Owner            0            1  \n",
       "6         Bachelors         2    Contact Agent            0            4  \n",
       "7         Bachelors         1    Contact Agent            1            2  \n",
       "8         Bachelors         2    Contact Agent            1            2  \n",
       "9  Bachelors/Family         2    Contact Owner            1            3  "
      ]
     },
     "execution_count": 47,
     "metadata": {},
     "output_type": "execute_result"
    }
   ],
   "source": [
    "rentData.head(10)"
   ]
  },
  {
   "cell_type": "code",
   "execution_count": 48,
   "id": "c265c73c",
   "metadata": {},
   "outputs": [
    {
     "name": "stdout",
     "output_type": "stream",
     "text": [
      "<class 'pandas.core.frame.DataFrame'>\n",
      "Index: 4738 entries, 0 to 4745\n",
      "Data columns (total 13 columns):\n",
      " #   Column             Non-Null Count  Dtype  \n",
      "---  ------             --------------  -----  \n",
      " 0   BHK                4738 non-null   int64  \n",
      " 1   Rent               4738 non-null   int64  \n",
      " 2   Size               4738 non-null   float64\n",
      " 3   Floor              4738 non-null   object \n",
      " 4   Area Type          4738 non-null   object \n",
      " 5   Area Locality      4738 non-null   object \n",
      " 6   City               4738 non-null   object \n",
      " 7   Furnishing Status  4738 non-null   object \n",
      " 8   Tenant Preferred   4738 non-null   object \n",
      " 9   Bathroom           4738 non-null   int64  \n",
      " 10  Point of Contact   4738 non-null   object \n",
      " 11  Living floor       4738 non-null   object \n",
      " 12  Total floors       4738 non-null   object \n",
      "dtypes: float64(1), int64(3), object(9)\n",
      "memory usage: 518.2+ KB\n"
     ]
    }
   ],
   "source": [
    "rentData.info()"
   ]
  },
  {
   "cell_type": "code",
   "execution_count": 49,
   "id": "68b4d2e4",
   "metadata": {},
   "outputs": [],
   "source": [
    "#Still the newly created 02 columns are in object type, so let's convert it to numeric values\n",
    "\n",
    "rentData['Living floor'] = rentData['Living floor'].astype('int32')\n",
    "rentData['Total floors'] = rentData['Total floors'].astype('int32')"
   ]
  },
  {
   "cell_type": "code",
   "execution_count": 50,
   "id": "42907588",
   "metadata": {},
   "outputs": [
    {
     "name": "stdout",
     "output_type": "stream",
     "text": [
      "<class 'pandas.core.frame.DataFrame'>\n",
      "Index: 4738 entries, 0 to 4745\n",
      "Data columns (total 13 columns):\n",
      " #   Column             Non-Null Count  Dtype  \n",
      "---  ------             --------------  -----  \n",
      " 0   BHK                4738 non-null   int64  \n",
      " 1   Rent               4738 non-null   int64  \n",
      " 2   Size               4738 non-null   float64\n",
      " 3   Floor              4738 non-null   object \n",
      " 4   Area Type          4738 non-null   object \n",
      " 5   Area Locality      4738 non-null   object \n",
      " 6   City               4738 non-null   object \n",
      " 7   Furnishing Status  4738 non-null   object \n",
      " 8   Tenant Preferred   4738 non-null   object \n",
      " 9   Bathroom           4738 non-null   int64  \n",
      " 10  Point of Contact   4738 non-null   object \n",
      " 11  Living floor       4738 non-null   int32  \n",
      " 12  Total floors       4738 non-null   int32  \n",
      "dtypes: float64(1), int32(2), int64(3), object(7)\n",
      "memory usage: 481.2+ KB\n"
     ]
    }
   ],
   "source": [
    "rentData.info()\n",
    "#now we can see, those 02 columns has convereted to the int32 type"
   ]
  },
  {
   "cell_type": "code",
   "execution_count": 51,
   "id": "908bf842",
   "metadata": {},
   "outputs": [],
   "source": [
    "#So, let's drop the Floor column now which has 479 unique values\n",
    "\n",
    "rentData = rentData.drop('Floor', axis=1)"
   ]
  },
  {
   "cell_type": "code",
   "execution_count": 52,
   "id": "604d88dd",
   "metadata": {
    "scrolled": true
   },
   "outputs": [
    {
     "data": {
      "text/html": [
       "<div>\n",
       "<style scoped>\n",
       "    .dataframe tbody tr th:only-of-type {\n",
       "        vertical-align: middle;\n",
       "    }\n",
       "\n",
       "    .dataframe tbody tr th {\n",
       "        vertical-align: top;\n",
       "    }\n",
       "\n",
       "    .dataframe thead th {\n",
       "        text-align: right;\n",
       "    }\n",
       "</style>\n",
       "<table border=\"1\" class=\"dataframe\">\n",
       "  <thead>\n",
       "    <tr style=\"text-align: right;\">\n",
       "      <th></th>\n",
       "      <th>BHK</th>\n",
       "      <th>Rent</th>\n",
       "      <th>Size</th>\n",
       "      <th>Area Type</th>\n",
       "      <th>Area Locality</th>\n",
       "      <th>City</th>\n",
       "      <th>Furnishing Status</th>\n",
       "      <th>Tenant Preferred</th>\n",
       "      <th>Bathroom</th>\n",
       "      <th>Point of Contact</th>\n",
       "      <th>Living floor</th>\n",
       "      <th>Total floors</th>\n",
       "    </tr>\n",
       "  </thead>\n",
       "  <tbody>\n",
       "    <tr>\n",
       "      <th>0</th>\n",
       "      <td>2</td>\n",
       "      <td>10000</td>\n",
       "      <td>0.136421</td>\n",
       "      <td>Super Area</td>\n",
       "      <td>Bandel</td>\n",
       "      <td>Kolkata</td>\n",
       "      <td>Unfurnished</td>\n",
       "      <td>Bachelors/Family</td>\n",
       "      <td>2</td>\n",
       "      <td>Contact Owner</td>\n",
       "      <td>0</td>\n",
       "      <td>2</td>\n",
       "    </tr>\n",
       "    <tr>\n",
       "      <th>1</th>\n",
       "      <td>2</td>\n",
       "      <td>20000</td>\n",
       "      <td>0.098874</td>\n",
       "      <td>Super Area</td>\n",
       "      <td>Phool Bagan, Kankurgachi</td>\n",
       "      <td>Kolkata</td>\n",
       "      <td>Semi-Furnished</td>\n",
       "      <td>Bachelors/Family</td>\n",
       "      <td>1</td>\n",
       "      <td>Contact Owner</td>\n",
       "      <td>1</td>\n",
       "      <td>3</td>\n",
       "    </tr>\n",
       "    <tr>\n",
       "      <th>2</th>\n",
       "      <td>2</td>\n",
       "      <td>17000</td>\n",
       "      <td>0.123905</td>\n",
       "      <td>Super Area</td>\n",
       "      <td>Salt Lake City Sector 2</td>\n",
       "      <td>Kolkata</td>\n",
       "      <td>Semi-Furnished</td>\n",
       "      <td>Bachelors/Family</td>\n",
       "      <td>1</td>\n",
       "      <td>Contact Owner</td>\n",
       "      <td>1</td>\n",
       "      <td>3</td>\n",
       "    </tr>\n",
       "  </tbody>\n",
       "</table>\n",
       "</div>"
      ],
      "text/plain": [
       "   BHK   Rent      Size   Area Type             Area Locality     City   \n",
       "0    2  10000  0.136421  Super Area                    Bandel  Kolkata  \\\n",
       "1    2  20000  0.098874  Super Area  Phool Bagan, Kankurgachi  Kolkata   \n",
       "2    2  17000  0.123905  Super Area   Salt Lake City Sector 2  Kolkata   \n",
       "\n",
       "  Furnishing Status  Tenant Preferred  Bathroom Point of Contact   \n",
       "0       Unfurnished  Bachelors/Family         2    Contact Owner  \\\n",
       "1    Semi-Furnished  Bachelors/Family         1    Contact Owner   \n",
       "2    Semi-Furnished  Bachelors/Family         1    Contact Owner   \n",
       "\n",
       "   Living floor  Total floors  \n",
       "0             0             2  \n",
       "1             1             3  \n",
       "2             1             3  "
      ]
     },
     "execution_count": 52,
     "metadata": {},
     "output_type": "execute_result"
    }
   ],
   "source": [
    "rentData.head(3)"
   ]
  },
  {
   "cell_type": "markdown",
   "id": "71a9044e",
   "metadata": {},
   "source": [
    "# Col6 - Area Type"
   ]
  },
  {
   "cell_type": "code",
   "execution_count": 53,
   "id": "fec6ac1a",
   "metadata": {},
   "outputs": [
    {
     "data": {
      "text/plain": [
       "Area Type\n",
       "Super Area     2443\n",
       "Carpet Area    2293\n",
       "Built Area        2\n",
       "Name: count, dtype: int64"
      ]
     },
     "execution_count": 53,
     "metadata": {},
     "output_type": "execute_result"
    }
   ],
   "source": [
    "rentData['Area Type'].value_counts()"
   ]
  },
  {
   "cell_type": "code",
   "execution_count": 54,
   "id": "e5d7cf58",
   "metadata": {},
   "outputs": [
    {
     "data": {
      "text/html": [
       "<div>\n",
       "<style scoped>\n",
       "    .dataframe tbody tr th:only-of-type {\n",
       "        vertical-align: middle;\n",
       "    }\n",
       "\n",
       "    .dataframe tbody tr th {\n",
       "        vertical-align: top;\n",
       "    }\n",
       "\n",
       "    .dataframe thead th {\n",
       "        text-align: right;\n",
       "    }\n",
       "</style>\n",
       "<table border=\"1\" class=\"dataframe\">\n",
       "  <thead>\n",
       "    <tr style=\"text-align: right;\">\n",
       "      <th></th>\n",
       "      <th>BHK</th>\n",
       "      <th>Rent</th>\n",
       "      <th>Size</th>\n",
       "      <th>Area Type</th>\n",
       "      <th>Area Locality</th>\n",
       "      <th>City</th>\n",
       "      <th>Furnishing Status</th>\n",
       "      <th>Tenant Preferred</th>\n",
       "      <th>Bathroom</th>\n",
       "      <th>Point of Contact</th>\n",
       "      <th>Living floor</th>\n",
       "      <th>Total floors</th>\n",
       "    </tr>\n",
       "  </thead>\n",
       "  <tbody>\n",
       "    <tr>\n",
       "      <th>3079</th>\n",
       "      <td>2</td>\n",
       "      <td>15000</td>\n",
       "      <td>0.123905</td>\n",
       "      <td>Built Area</td>\n",
       "      <td>Chromepet, GST Road</td>\n",
       "      <td>Chennai</td>\n",
       "      <td>Furnished</td>\n",
       "      <td>Bachelors/Family</td>\n",
       "      <td>2</td>\n",
       "      <td>Contact Owner</td>\n",
       "      <td>1</td>\n",
       "      <td>2</td>\n",
       "    </tr>\n",
       "    <tr>\n",
       "      <th>3966</th>\n",
       "      <td>1</td>\n",
       "      <td>6000</td>\n",
       "      <td>0.061327</td>\n",
       "      <td>Built Area</td>\n",
       "      <td>Seri Lingampally</td>\n",
       "      <td>Hyderabad</td>\n",
       "      <td>Unfurnished</td>\n",
       "      <td>Bachelors/Family</td>\n",
       "      <td>1</td>\n",
       "      <td>Contact Owner</td>\n",
       "      <td>5</td>\n",
       "      <td>5</td>\n",
       "    </tr>\n",
       "  </tbody>\n",
       "</table>\n",
       "</div>"
      ],
      "text/plain": [
       "      BHK   Rent      Size   Area Type        Area Locality       City   \n",
       "3079    2  15000  0.123905  Built Area  Chromepet, GST Road    Chennai  \\\n",
       "3966    1   6000  0.061327  Built Area     Seri Lingampally  Hyderabad   \n",
       "\n",
       "     Furnishing Status  Tenant Preferred  Bathroom Point of Contact   \n",
       "3079         Furnished  Bachelors/Family         2    Contact Owner  \\\n",
       "3966       Unfurnished  Bachelors/Family         1    Contact Owner   \n",
       "\n",
       "      Living floor  Total floors  \n",
       "3079             1             2  \n",
       "3966             5             5  "
      ]
     },
     "execution_count": 54,
     "metadata": {},
     "output_type": "execute_result"
    }
   ],
   "source": [
    "#Out of 4000+ records, there are only 2 records for the Built Area values\n",
    "#So let's remove those suspicios rows\n",
    "\n",
    "rentData[rentData['Area Type'] == 'Built Area']"
   ]
  },
  {
   "cell_type": "code",
   "execution_count": 55,
   "id": "824f361d",
   "metadata": {},
   "outputs": [
    {
     "data": {
      "text/plain": [
       "(4738, 12)"
      ]
     },
     "execution_count": 55,
     "metadata": {},
     "output_type": "execute_result"
    }
   ],
   "source": [
    "rentData.shape"
   ]
  },
  {
   "cell_type": "code",
   "execution_count": 56,
   "id": "2cc5c0ac",
   "metadata": {},
   "outputs": [],
   "source": [
    "rentData.drop(3966, axis=0, inplace=True)\n",
    "rentData.drop(3079, axis=0, inplace=True)"
   ]
  },
  {
   "cell_type": "code",
   "execution_count": 57,
   "id": "dc3af0ae",
   "metadata": {},
   "outputs": [
    {
     "data": {
      "text/plain": [
       "(4736, 12)"
      ]
     },
     "execution_count": 57,
     "metadata": {},
     "output_type": "execute_result"
    }
   ],
   "source": [
    "rentData.shape"
   ]
  },
  {
   "cell_type": "markdown",
   "id": "ff57b869",
   "metadata": {},
   "source": [
    "# Col7 - Area Locality"
   ]
  },
  {
   "cell_type": "code",
   "execution_count": 58,
   "id": "62b63e84",
   "metadata": {},
   "outputs": [
    {
     "data": {
      "text/plain": [
       "Area Locality\n",
       "Bandra West                                37\n",
       "Gachibowli                                 29\n",
       "Electronic City                            24\n",
       "Miyapur, NH 9                              22\n",
       "Velachery                                  22\n",
       "                                           ..\n",
       "Kengeri Upanagara                           1\n",
       "Ittamadu, Banashankari, Outer Ring Road     1\n",
       "Rmv Extension, Armane Nagar                 1\n",
       "snv la                                      1\n",
       "Manikonda, Hyderabad                        1\n",
       "Name: count, Length: 2233, dtype: int64"
      ]
     },
     "execution_count": 58,
     "metadata": {},
     "output_type": "execute_result"
    }
   ],
   "source": [
    "rentData['Area Locality'].value_counts()"
   ]
  },
  {
   "cell_type": "code",
   "execution_count": 61,
   "id": "35c1c6f5",
   "metadata": {},
   "outputs": [
    {
     "data": {
      "text/plain": [
       "(4736, 12)"
      ]
     },
     "execution_count": 61,
     "metadata": {},
     "output_type": "execute_result"
    }
   ],
   "source": [
    "rentData.shape"
   ]
  },
  {
   "cell_type": "code",
   "execution_count": 62,
   "id": "cf488895",
   "metadata": {},
   "outputs": [],
   "source": [
    "#As per the above result, there are 2233 unique values for this column\n",
    "#And there are very low counts considering the total dataset records\n",
    "\n",
    "#therefore, we have to remove this column to reduce the impact for the model\n",
    "rentData.drop('Area Locality', inplace=True, axis=1)"
   ]
  },
  {
   "cell_type": "code",
   "execution_count": 63,
   "id": "c61c9364",
   "metadata": {},
   "outputs": [
    {
     "data": {
      "text/plain": [
       "(4736, 11)"
      ]
     },
     "execution_count": 63,
     "metadata": {},
     "output_type": "execute_result"
    }
   ],
   "source": [
    "rentData.shape"
   ]
  },
  {
   "cell_type": "markdown",
   "id": "acbadc13",
   "metadata": {},
   "source": [
    "# Col8 - City"
   ]
  },
  {
   "cell_type": "code",
   "execution_count": 64,
   "id": "a343e3ec",
   "metadata": {},
   "outputs": [
    {
     "data": {
      "text/plain": [
       "City\n",
       "Mumbai       969\n",
       "Chennai      890\n",
       "Bangalore    885\n",
       "Hyderabad    866\n",
       "Delhi        604\n",
       "Kolkata      522\n",
       "Name: count, dtype: int64"
      ]
     },
     "execution_count": 64,
     "metadata": {},
     "output_type": "execute_result"
    }
   ],
   "source": [
    "rentData['City'].value_counts()"
   ]
  },
  {
   "cell_type": "markdown",
   "id": "847c0875",
   "metadata": {},
   "source": [
    "#Each city contain enough data records and only having 6 unique values, therefore no need of feature engineering"
   ]
  },
  {
   "cell_type": "markdown",
   "id": "d0d09115",
   "metadata": {},
   "source": [
    "# Col9 - Furnishing Status"
   ]
  },
  {
   "cell_type": "code",
   "execution_count": 65,
   "id": "95a7793e",
   "metadata": {},
   "outputs": [
    {
     "data": {
      "text/plain": [
       "Furnishing Status\n",
       "Semi-Furnished    2246\n",
       "Unfurnished       1813\n",
       "Furnished          677\n",
       "Name: count, dtype: int64"
      ]
     },
     "execution_count": 65,
     "metadata": {},
     "output_type": "execute_result"
    }
   ],
   "source": [
    "rentData['Furnishing Status'].value_counts()"
   ]
  },
  {
   "cell_type": "code",
   "execution_count": 135,
   "id": "9e6b283d",
   "metadata": {},
   "outputs": [
    {
     "data": {
      "text/plain": [
       "([<matplotlib.patches.Wedge at 0x185f35e8a10>,\n",
       "  <matplotlib.patches.Wedge at 0x185f47b9950>,\n",
       "  <matplotlib.patches.Wedge at 0x185f47bad90>],\n",
       " [Text(0.08873649413408417, 1.0964149919664505, 'Unfurnished'),\n",
       "  Text(-0.5569217494312602, -0.9485979996871302, 'Semi-Furnished'),\n",
       "  Text(0.9904330694567622, -0.47858367599246054, 'Furnished')],\n",
       " [Text(0.048401724073136816, 0.5980445410726093, '47.43%'),\n",
       "  Text(-0.30377549968977824, -0.5174170907384347, '38.24%'),\n",
       "  Text(0.5402362197036884, -0.26104564145043296, '14.33%')])"
      ]
     },
     "execution_count": 135,
     "metadata": {},
     "output_type": "execute_result"
    },
    {
     "data": {
      "image/png": "[encoded data removed]",
      "text/plain": [
       "<Figure size 640x480 with 1 Axes>"
      ]
     },
     "metadata": {},
     "output_type": "display_data"
    }
   ],
   "source": [
    "plt.pie(initialRentData['Furnishing Status'].value_counts(), labels=initialRentData['Furnishing Status'].unique(), \n",
    "        autopct='%1.2f%%', colors=colors)"
   ]
  },
  {
   "cell_type": "markdown",
   "id": "70cbd500",
   "metadata": {},
   "source": [
    "#Each Furnishing Status contain enough data records and only having 3 unique values, therefore no need of feature engineering"
   ]
  },
  {
   "cell_type": "markdown",
   "id": "5ce108ac",
   "metadata": {},
   "source": [
    "# Col10 - Tenant Preferred"
   ]
  },
  {
   "cell_type": "code",
   "execution_count": 66,
   "id": "c08f68d9",
   "metadata": {},
   "outputs": [
    {
     "data": {
      "text/plain": [
       "Tenant Preferred\n",
       "Bachelors/Family    3436\n",
       "Bachelors            829\n",
       "Family               471\n",
       "Name: count, dtype: int64"
      ]
     },
     "execution_count": 66,
     "metadata": {},
     "output_type": "execute_result"
    }
   ],
   "source": [
    "rentData['Tenant Preferred'].value_counts()"
   ]
  },
  {
   "cell_type": "code",
   "execution_count": 134,
   "id": "0f966e6c",
   "metadata": {},
   "outputs": [
    {
     "data": {
      "text/plain": [
       "([<matplotlib.patches.Wedge at 0x185f204e050>,\n",
       "  <matplotlib.patches.Wedge at 0x185f35f0150>,\n",
       "  <matplotlib.patches.Wedge at 0x185f35f2610>],\n",
       " [Text(-0.716135409385136, 0.8349551337795246, 'Bachelors/Family'),\n",
       "  Text(0.42481684305308487, -1.0146578979431495, 'Bachelors'),\n",
       "  Text(1.0467456406646323, -0.3381176773692684, 'Family')],\n",
       " [Text(-0.3906193142100742, 0.4554300729706497, '72.57%'),\n",
       "  Text(0.23171827802895537, -0.5534497625144451, '17.49%'),\n",
       "  Text(0.5709521676352539, -0.18442782401960092, '9.95%')])"
      ]
     },
     "execution_count": 134,
     "metadata": {},
     "output_type": "execute_result"
    },
    {
     "data": {
      "image/png": "[encoded data removed]",
      "text/plain": [
       "<Figure size 640x480 with 1 Axes>"
      ]
     },
     "metadata": {},
     "output_type": "display_data"
    }
   ],
   "source": [
    "plt.pie(initialRentData['Tenant Preferred'].value_counts(), labels=initialRentData['Tenant Preferred'].unique(), \n",
    "        autopct='%1.2f%%', colors=colors)"
   ]
  },
  {
   "cell_type": "markdown",
   "id": "2682b07f",
   "metadata": {},
   "source": [
    "#Each Tenant Preferred contain enough data records and only having 3 unique value, therefore no need of feature engineering"
   ]
  },
  {
   "cell_type": "markdown",
   "id": "4e63d127",
   "metadata": {},
   "source": [
    "# Col11 - Bathroom"
   ]
  },
  {
   "cell_type": "code",
   "execution_count": 67,
   "id": "534b72aa",
   "metadata": {},
   "outputs": [
    {
     "data": {
      "text/plain": [
       "Bathroom\n",
       "2     2290\n",
       "1     1470\n",
       "3      747\n",
       "4      153\n",
       "5       60\n",
       "6       12\n",
       "7        3\n",
       "10       1\n",
       "Name: count, dtype: int64"
      ]
     },
     "execution_count": 67,
     "metadata": {},
     "output_type": "execute_result"
    }
   ],
   "source": [
    "rentData['Bathroom'].value_counts()"
   ]
  },
  {
   "cell_type": "code",
   "execution_count": 72,
   "id": "135323eb",
   "metadata": {},
   "outputs": [
    {
     "data": {
      "text/plain": [
       "(4736, 11)"
      ]
     },
     "execution_count": 72,
     "metadata": {},
     "output_type": "execute_result"
    }
   ],
   "source": [
    "rentData.shape"
   ]
  },
  {
   "cell_type": "code",
   "execution_count": 73,
   "id": "d6d1c6fc",
   "metadata": {},
   "outputs": [
    {
     "data": {
      "text/html": [
       "<div>\n",
       "<style scoped>\n",
       "    .dataframe tbody tr th:only-of-type {\n",
       "        vertical-align: middle;\n",
       "    }\n",
       "\n",
       "    .dataframe tbody tr th {\n",
       "        vertical-align: top;\n",
       "    }\n",
       "\n",
       "    .dataframe thead th {\n",
       "        text-align: right;\n",
       "    }\n",
       "</style>\n",
       "<table border=\"1\" class=\"dataframe\">\n",
       "  <thead>\n",
       "    <tr style=\"text-align: right;\">\n",
       "      <th></th>\n",
       "      <th>BHK</th>\n",
       "      <th>Rent</th>\n",
       "      <th>Size</th>\n",
       "      <th>Area Type</th>\n",
       "      <th>City</th>\n",
       "      <th>Furnishing Status</th>\n",
       "      <th>Tenant Preferred</th>\n",
       "      <th>Bathroom</th>\n",
       "      <th>Point of Contact</th>\n",
       "      <th>Living floor</th>\n",
       "      <th>Total floors</th>\n",
       "    </tr>\n",
       "  </thead>\n",
       "  <tbody>\n",
       "    <tr>\n",
       "      <th>2846</th>\n",
       "      <td>4</td>\n",
       "      <td>150000</td>\n",
       "      <td>0.499374</td>\n",
       "      <td>Carpet Area</td>\n",
       "      <td>Delhi</td>\n",
       "      <td>Semi-Furnished</td>\n",
       "      <td>Bachelors</td>\n",
       "      <td>7</td>\n",
       "      <td>Contact Agent</td>\n",
       "      <td>3</td>\n",
       "      <td>3</td>\n",
       "    </tr>\n",
       "    <tr>\n",
       "      <th>4185</th>\n",
       "      <td>1</td>\n",
       "      <td>200000</td>\n",
       "      <td>1.000000</td>\n",
       "      <td>Super Area</td>\n",
       "      <td>Hyderabad</td>\n",
       "      <td>Unfurnished</td>\n",
       "      <td>Bachelors/Family</td>\n",
       "      <td>10</td>\n",
       "      <td>Contact Owner</td>\n",
       "      <td>0</td>\n",
       "      <td>4</td>\n",
       "    </tr>\n",
       "    <tr>\n",
       "      <th>4350</th>\n",
       "      <td>6</td>\n",
       "      <td>60000</td>\n",
       "      <td>0.349186</td>\n",
       "      <td>Super Area</td>\n",
       "      <td>Hyderabad</td>\n",
       "      <td>Furnished</td>\n",
       "      <td>Bachelors/Family</td>\n",
       "      <td>7</td>\n",
       "      <td>Contact Owner</td>\n",
       "      <td>0</td>\n",
       "      <td>3</td>\n",
       "    </tr>\n",
       "    <tr>\n",
       "      <th>4518</th>\n",
       "      <td>6</td>\n",
       "      <td>35000</td>\n",
       "      <td>0.424280</td>\n",
       "      <td>Super Area</td>\n",
       "      <td>Hyderabad</td>\n",
       "      <td>Unfurnished</td>\n",
       "      <td>Bachelors/Family</td>\n",
       "      <td>7</td>\n",
       "      <td>Contact Owner</td>\n",
       "      <td>0</td>\n",
       "      <td>2</td>\n",
       "    </tr>\n",
       "  </tbody>\n",
       "</table>\n",
       "</div>"
      ],
      "text/plain": [
       "      BHK    Rent      Size    Area Type       City Furnishing Status   \n",
       "2846    4  150000  0.499374  Carpet Area      Delhi    Semi-Furnished  \\\n",
       "4185    1  200000  1.000000   Super Area  Hyderabad       Unfurnished   \n",
       "4350    6   60000  0.349186   Super Area  Hyderabad         Furnished   \n",
       "4518    6   35000  0.424280   Super Area  Hyderabad       Unfurnished   \n",
       "\n",
       "      Tenant Preferred  Bathroom Point of Contact  Living floor  Total floors  \n",
       "2846         Bachelors         7    Contact Agent             3             3  \n",
       "4185  Bachelors/Family        10    Contact Owner             0             4  \n",
       "4350  Bachelors/Family         7    Contact Owner             0             3  \n",
       "4518  Bachelors/Family         7    Contact Owner             0             2  "
      ]
     },
     "execution_count": 73,
     "metadata": {},
     "output_type": "execute_result"
    }
   ],
   "source": [
    "#As per the above result, we can see, there are low records for 7 and 10\n",
    "\n",
    "rentData[rentData['Bathroom'] > 6]"
   ]
  },
  {
   "cell_type": "code",
   "execution_count": 74,
   "id": "56aecec9",
   "metadata": {},
   "outputs": [],
   "source": [
    "#Therefore, need to remove those rows to get more accurate results from the model\n",
    "\n",
    "rentData.drop(2846, axis=0, inplace=True)\n",
    "rentData.drop(4185, axis=0, inplace=True)\n",
    "rentData.drop(4350, axis=0, inplace=True)\n",
    "rentData.drop(4518, axis=0, inplace=True)"
   ]
  },
  {
   "cell_type": "code",
   "execution_count": 75,
   "id": "c1d1c732",
   "metadata": {},
   "outputs": [
    {
     "data": {
      "text/plain": [
       "(4732, 11)"
      ]
     },
     "execution_count": 75,
     "metadata": {},
     "output_type": "execute_result"
    }
   ],
   "source": [
    "rentData.shape"
   ]
  },
  {
   "cell_type": "markdown",
   "id": "4ba399d1",
   "metadata": {},
   "source": [
    "# Col12 - Point of Contact"
   ]
  },
  {
   "cell_type": "code",
   "execution_count": 76,
   "id": "c8de4733",
   "metadata": {},
   "outputs": [
    {
     "data": {
      "text/plain": [
       "Point of Contact\n",
       "Contact Owner      3207\n",
       "Contact Agent      1524\n",
       "Contact Builder       1\n",
       "Name: count, dtype: int64"
      ]
     },
     "execution_count": 76,
     "metadata": {},
     "output_type": "execute_result"
    }
   ],
   "source": [
    "rentData['Point of Contact'].value_counts()"
   ]
  },
  {
   "cell_type": "code",
   "execution_count": 77,
   "id": "0bd8f957",
   "metadata": {},
   "outputs": [
    {
     "data": {
      "text/plain": [
       "(4732, 11)"
      ]
     },
     "execution_count": 77,
     "metadata": {},
     "output_type": "execute_result"
    }
   ],
   "source": [
    "rentData.shape"
   ]
  },
  {
   "cell_type": "code",
   "execution_count": 78,
   "id": "7a638c8e",
   "metadata": {},
   "outputs": [
    {
     "data": {
      "text/html": [
       "<div>\n",
       "<style scoped>\n",
       "    .dataframe tbody tr th:only-of-type {\n",
       "        vertical-align: middle;\n",
       "    }\n",
       "\n",
       "    .dataframe tbody tr th {\n",
       "        vertical-align: top;\n",
       "    }\n",
       "\n",
       "    .dataframe thead th {\n",
       "        text-align: right;\n",
       "    }\n",
       "</style>\n",
       "<table border=\"1\" class=\"dataframe\">\n",
       "  <thead>\n",
       "    <tr style=\"text-align: right;\">\n",
       "      <th></th>\n",
       "      <th>BHK</th>\n",
       "      <th>Rent</th>\n",
       "      <th>Size</th>\n",
       "      <th>Area Type</th>\n",
       "      <th>City</th>\n",
       "      <th>Furnishing Status</th>\n",
       "      <th>Tenant Preferred</th>\n",
       "      <th>Bathroom</th>\n",
       "      <th>Point of Contact</th>\n",
       "      <th>Living floor</th>\n",
       "      <th>Total floors</th>\n",
       "    </tr>\n",
       "  </thead>\n",
       "  <tbody>\n",
       "    <tr>\n",
       "      <th>4061</th>\n",
       "      <td>1</td>\n",
       "      <td>5500</td>\n",
       "      <td>0.048811</td>\n",
       "      <td>Super Area</td>\n",
       "      <td>Hyderabad</td>\n",
       "      <td>Unfurnished</td>\n",
       "      <td>Bachelors/Family</td>\n",
       "      <td>1</td>\n",
       "      <td>Contact Builder</td>\n",
       "      <td>1</td>\n",
       "      <td>2</td>\n",
       "    </tr>\n",
       "  </tbody>\n",
       "</table>\n",
       "</div>"
      ],
      "text/plain": [
       "      BHK  Rent      Size   Area Type       City Furnishing Status   \n",
       "4061    1  5500  0.048811  Super Area  Hyderabad       Unfurnished  \\\n",
       "\n",
       "      Tenant Preferred  Bathroom Point of Contact  Living floor  Total floors  \n",
       "4061  Bachelors/Family         1  Contact Builder             1             2  "
      ]
     },
     "execution_count": 78,
     "metadata": {},
     "output_type": "execute_result"
    }
   ],
   "source": [
    "#There is only one record exist for the Contact Builder, therefore it will impact for the model accuracy\n",
    "#Let's remove that row\n",
    "\n",
    "rentData[rentData['Point of Contact'] == 'Contact Builder']"
   ]
  },
  {
   "cell_type": "code",
   "execution_count": 79,
   "id": "507b5edf",
   "metadata": {},
   "outputs": [
    {
     "data": {
      "text/plain": [
       "(4731, 11)"
      ]
     },
     "execution_count": 79,
     "metadata": {},
     "output_type": "execute_result"
    }
   ],
   "source": [
    "rentData.drop(4061, axis=0, inplace=True)\n",
    "\n",
    "rentData.shape"
   ]
  },
  {
   "cell_type": "code",
   "execution_count": 80,
   "id": "395c927b",
   "metadata": {},
   "outputs": [
    {
     "data": {
      "text/html": [
       "<div>\n",
       "<style scoped>\n",
       "    .dataframe tbody tr th:only-of-type {\n",
       "        vertical-align: middle;\n",
       "    }\n",
       "\n",
       "    .dataframe tbody tr th {\n",
       "        vertical-align: top;\n",
       "    }\n",
       "\n",
       "    .dataframe thead th {\n",
       "        text-align: right;\n",
       "    }\n",
       "</style>\n",
       "<table border=\"1\" class=\"dataframe\">\n",
       "  <thead>\n",
       "    <tr style=\"text-align: right;\">\n",
       "      <th></th>\n",
       "      <th>BHK</th>\n",
       "      <th>Rent</th>\n",
       "      <th>Size</th>\n",
       "      <th>Area Type</th>\n",
       "      <th>City</th>\n",
       "      <th>Furnishing Status</th>\n",
       "      <th>Tenant Preferred</th>\n",
       "      <th>Bathroom</th>\n",
       "      <th>Point of Contact</th>\n",
       "      <th>Living floor</th>\n",
       "      <th>Total floors</th>\n",
       "    </tr>\n",
       "  </thead>\n",
       "  <tbody>\n",
       "    <tr>\n",
       "      <th>0</th>\n",
       "      <td>2</td>\n",
       "      <td>10000</td>\n",
       "      <td>0.136421</td>\n",
       "      <td>Super Area</td>\n",
       "      <td>Kolkata</td>\n",
       "      <td>Unfurnished</td>\n",
       "      <td>Bachelors/Family</td>\n",
       "      <td>2</td>\n",
       "      <td>Contact Owner</td>\n",
       "      <td>0</td>\n",
       "      <td>2</td>\n",
       "    </tr>\n",
       "    <tr>\n",
       "      <th>1</th>\n",
       "      <td>2</td>\n",
       "      <td>20000</td>\n",
       "      <td>0.098874</td>\n",
       "      <td>Super Area</td>\n",
       "      <td>Kolkata</td>\n",
       "      <td>Semi-Furnished</td>\n",
       "      <td>Bachelors/Family</td>\n",
       "      <td>1</td>\n",
       "      <td>Contact Owner</td>\n",
       "      <td>1</td>\n",
       "      <td>3</td>\n",
       "    </tr>\n",
       "    <tr>\n",
       "      <th>2</th>\n",
       "      <td>2</td>\n",
       "      <td>17000</td>\n",
       "      <td>0.123905</td>\n",
       "      <td>Super Area</td>\n",
       "      <td>Kolkata</td>\n",
       "      <td>Semi-Furnished</td>\n",
       "      <td>Bachelors/Family</td>\n",
       "      <td>1</td>\n",
       "      <td>Contact Owner</td>\n",
       "      <td>1</td>\n",
       "      <td>3</td>\n",
       "    </tr>\n",
       "    <tr>\n",
       "      <th>3</th>\n",
       "      <td>2</td>\n",
       "      <td>10000</td>\n",
       "      <td>0.098874</td>\n",
       "      <td>Super Area</td>\n",
       "      <td>Kolkata</td>\n",
       "      <td>Unfurnished</td>\n",
       "      <td>Bachelors/Family</td>\n",
       "      <td>1</td>\n",
       "      <td>Contact Owner</td>\n",
       "      <td>1</td>\n",
       "      <td>2</td>\n",
       "    </tr>\n",
       "    <tr>\n",
       "      <th>4</th>\n",
       "      <td>2</td>\n",
       "      <td>7500</td>\n",
       "      <td>0.105131</td>\n",
       "      <td>Carpet Area</td>\n",
       "      <td>Kolkata</td>\n",
       "      <td>Unfurnished</td>\n",
       "      <td>Bachelors</td>\n",
       "      <td>1</td>\n",
       "      <td>Contact Owner</td>\n",
       "      <td>1</td>\n",
       "      <td>2</td>\n",
       "    </tr>\n",
       "  </tbody>\n",
       "</table>\n",
       "</div>"
      ],
      "text/plain": [
       "   BHK   Rent      Size    Area Type     City Furnishing Status   \n",
       "0    2  10000  0.136421   Super Area  Kolkata       Unfurnished  \\\n",
       "1    2  20000  0.098874   Super Area  Kolkata    Semi-Furnished   \n",
       "2    2  17000  0.123905   Super Area  Kolkata    Semi-Furnished   \n",
       "3    2  10000  0.098874   Super Area  Kolkata       Unfurnished   \n",
       "4    2   7500  0.105131  Carpet Area  Kolkata       Unfurnished   \n",
       "\n",
       "   Tenant Preferred  Bathroom Point of Contact  Living floor  Total floors  \n",
       "0  Bachelors/Family         2    Contact Owner             0             2  \n",
       "1  Bachelors/Family         1    Contact Owner             1             3  \n",
       "2  Bachelors/Family         1    Contact Owner             1             3  \n",
       "3  Bachelors/Family         1    Contact Owner             1             2  \n",
       "4         Bachelors         1    Contact Owner             1             2  "
      ]
     },
     "execution_count": 80,
     "metadata": {},
     "output_type": "execute_result"
    }
   ],
   "source": [
    "rentData.head(5)"
   ]
  },
  {
   "cell_type": "code",
   "execution_count": 81,
   "id": "063b1d0c",
   "metadata": {},
   "outputs": [
    {
     "name": "stdout",
     "output_type": "stream",
     "text": [
      "<class 'pandas.core.frame.DataFrame'>\n",
      "Index: 4731 entries, 0 to 4745\n",
      "Data columns (total 11 columns):\n",
      " #   Column             Non-Null Count  Dtype  \n",
      "---  ------             --------------  -----  \n",
      " 0   BHK                4731 non-null   int64  \n",
      " 1   Rent               4731 non-null   int64  \n",
      " 2   Size               4731 non-null   float64\n",
      " 3   Area Type          4731 non-null   object \n",
      " 4   City               4731 non-null   object \n",
      " 5   Furnishing Status  4731 non-null   object \n",
      " 6   Tenant Preferred   4731 non-null   object \n",
      " 7   Bathroom           4731 non-null   int64  \n",
      " 8   Point of Contact   4731 non-null   object \n",
      " 9   Living floor       4731 non-null   int32  \n",
      " 10  Total floors       4731 non-null   int32  \n",
      "dtypes: float64(1), int32(2), int64(3), object(5)\n",
      "memory usage: 406.6+ KB\n"
     ]
    }
   ],
   "source": [
    "rentData.info()"
   ]
  },
  {
   "cell_type": "code",
   "execution_count": 82,
   "id": "4da6e6e2",
   "metadata": {
    "scrolled": false
   },
   "outputs": [
    {
     "data": {
      "text/plain": [
       "<bound method DataFrame.nunique of       BHK   Rent      Size    Area Type       City Furnishing Status   \n",
       "0       2  10000  0.136421   Super Area    Kolkata       Unfurnished  \\\n",
       "1       2  20000  0.098874   Super Area    Kolkata    Semi-Furnished   \n",
       "2       2  17000  0.123905   Super Area    Kolkata    Semi-Furnished   \n",
       "3       2  10000  0.098874   Super Area    Kolkata       Unfurnished   \n",
       "4       2   7500  0.105131  Carpet Area    Kolkata       Unfurnished   \n",
       "...   ...    ...       ...          ...        ...               ...   \n",
       "4741    2  15000  0.123905  Carpet Area  Hyderabad    Semi-Furnished   \n",
       "4742    3  29000  0.249061   Super Area  Hyderabad    Semi-Furnished   \n",
       "4743    3  35000  0.217772  Carpet Area  Hyderabad    Semi-Furnished   \n",
       "4744    3  45000  0.186483  Carpet Area  Hyderabad    Semi-Furnished   \n",
       "4745    2  15000  0.123905  Carpet Area  Hyderabad       Unfurnished   \n",
       "\n",
       "      Tenant Preferred  Bathroom Point of Contact  Living floor  Total floors  \n",
       "0     Bachelors/Family         2    Contact Owner             0             2  \n",
       "1     Bachelors/Family         1    Contact Owner             1             3  \n",
       "2     Bachelors/Family         1    Contact Owner             1             3  \n",
       "3     Bachelors/Family         1    Contact Owner             1             2  \n",
       "4            Bachelors         1    Contact Owner             1             2  \n",
       "...                ...       ...              ...           ...           ...  \n",
       "4741  Bachelors/Family         2    Contact Owner             3             5  \n",
       "4742  Bachelors/Family         3    Contact Owner             1             4  \n",
       "4743  Bachelors/Family         3    Contact Agent             3             5  \n",
       "4744            Family         2    Contact Agent            23            34  \n",
       "4745         Bachelors         2    Contact Owner             4             5  \n",
       "\n",
       "[4731 rows x 11 columns]>"
      ]
     },
     "execution_count": 82,
     "metadata": {},
     "output_type": "execute_result"
    }
   ],
   "source": [
    "rentData.nunique"
   ]
  },
  {
   "cell_type": "code",
   "execution_count": 131,
   "id": "c95eda51",
   "metadata": {},
   "outputs": [
    {
     "data": {
      "image/png": "[encoded data removed]",
      "text/plain": [
       "<Figure size 1200x600 with 2 Axes>"
      ]
     },
     "metadata": {},
     "output_type": "display_data"
    }
   ],
   "source": [
    "plt.figure(figsize=(12,6))\n",
    "\n",
    "#Get an idea about co-relation of each attributes\n",
    "sns.heatmap(rentData.corr(),annot=True,cmap='Greens')\n",
    "\n",
    "#warmer colors give positive correlations and dark colors give negative correlations\n",
    "plt.show()"
   ]
  },
  {
   "cell_type": "markdown",
   "id": "08cd06e8",
   "metadata": {},
   "source": [
    "# Modelling and Training"
   ]
  },
  {
   "cell_type": "code",
   "execution_count": 83,
   "id": "3c08af3a",
   "metadata": {},
   "outputs": [],
   "source": [
    "from sklearn.model_selection import train_test_split\n",
    "from sklearn.ensemble import RandomForestRegressor\n",
    "from sklearn.metrics import r2_score\n",
    "from sklearn.metrics import mean_absolute_error"
   ]
  },
  {
   "cell_type": "code",
   "execution_count": 88,
   "id": "39ae84ba",
   "metadata": {},
   "outputs": [
    {
     "data": {
      "text/plain": [
       "(4731, 11)"
      ]
     },
     "execution_count": 88,
     "metadata": {},
     "output_type": "execute_result"
    }
   ],
   "source": [
    "rentData.shape"
   ]
  },
  {
   "cell_type": "code",
   "execution_count": 89,
   "id": "ccd37c63",
   "metadata": {},
   "outputs": [
    {
     "data": {
      "text/html": [
       "<div>\n",
       "<style scoped>\n",
       "    .dataframe tbody tr th:only-of-type {\n",
       "        vertical-align: middle;\n",
       "    }\n",
       "\n",
       "    .dataframe tbody tr th {\n",
       "        vertical-align: top;\n",
       "    }\n",
       "\n",
       "    .dataframe thead th {\n",
       "        text-align: right;\n",
       "    }\n",
       "</style>\n",
       "<table border=\"1\" class=\"dataframe\">\n",
       "  <thead>\n",
       "    <tr style=\"text-align: right;\">\n",
       "      <th></th>\n",
       "      <th>BHK</th>\n",
       "      <th>Rent</th>\n",
       "      <th>Size</th>\n",
       "      <th>Area Type</th>\n",
       "      <th>City</th>\n",
       "      <th>Furnishing Status</th>\n",
       "      <th>Tenant Preferred</th>\n",
       "      <th>Bathroom</th>\n",
       "      <th>Point of Contact</th>\n",
       "      <th>Living floor</th>\n",
       "      <th>Total floors</th>\n",
       "    </tr>\n",
       "  </thead>\n",
       "  <tbody>\n",
       "    <tr>\n",
       "      <th>0</th>\n",
       "      <td>2</td>\n",
       "      <td>10000</td>\n",
       "      <td>0.136421</td>\n",
       "      <td>Super Area</td>\n",
       "      <td>Kolkata</td>\n",
       "      <td>Unfurnished</td>\n",
       "      <td>Bachelors/Family</td>\n",
       "      <td>2</td>\n",
       "      <td>Contact Owner</td>\n",
       "      <td>0</td>\n",
       "      <td>2</td>\n",
       "    </tr>\n",
       "    <tr>\n",
       "      <th>1</th>\n",
       "      <td>2</td>\n",
       "      <td>20000</td>\n",
       "      <td>0.098874</td>\n",
       "      <td>Super Area</td>\n",
       "      <td>Kolkata</td>\n",
       "      <td>Semi-Furnished</td>\n",
       "      <td>Bachelors/Family</td>\n",
       "      <td>1</td>\n",
       "      <td>Contact Owner</td>\n",
       "      <td>1</td>\n",
       "      <td>3</td>\n",
       "    </tr>\n",
       "    <tr>\n",
       "      <th>2</th>\n",
       "      <td>2</td>\n",
       "      <td>17000</td>\n",
       "      <td>0.123905</td>\n",
       "      <td>Super Area</td>\n",
       "      <td>Kolkata</td>\n",
       "      <td>Semi-Furnished</td>\n",
       "      <td>Bachelors/Family</td>\n",
       "      <td>1</td>\n",
       "      <td>Contact Owner</td>\n",
       "      <td>1</td>\n",
       "      <td>3</td>\n",
       "    </tr>\n",
       "    <tr>\n",
       "      <th>3</th>\n",
       "      <td>2</td>\n",
       "      <td>10000</td>\n",
       "      <td>0.098874</td>\n",
       "      <td>Super Area</td>\n",
       "      <td>Kolkata</td>\n",
       "      <td>Unfurnished</td>\n",
       "      <td>Bachelors/Family</td>\n",
       "      <td>1</td>\n",
       "      <td>Contact Owner</td>\n",
       "      <td>1</td>\n",
       "      <td>2</td>\n",
       "    </tr>\n",
       "    <tr>\n",
       "      <th>4</th>\n",
       "      <td>2</td>\n",
       "      <td>7500</td>\n",
       "      <td>0.105131</td>\n",
       "      <td>Carpet Area</td>\n",
       "      <td>Kolkata</td>\n",
       "      <td>Unfurnished</td>\n",
       "      <td>Bachelors</td>\n",
       "      <td>1</td>\n",
       "      <td>Contact Owner</td>\n",
       "      <td>1</td>\n",
       "      <td>2</td>\n",
       "    </tr>\n",
       "  </tbody>\n",
       "</table>\n",
       "</div>"
      ],
      "text/plain": [
       "   BHK   Rent      Size    Area Type     City Furnishing Status   \n",
       "0    2  10000  0.136421   Super Area  Kolkata       Unfurnished  \\\n",
       "1    2  20000  0.098874   Super Area  Kolkata    Semi-Furnished   \n",
       "2    2  17000  0.123905   Super Area  Kolkata    Semi-Furnished   \n",
       "3    2  10000  0.098874   Super Area  Kolkata       Unfurnished   \n",
       "4    2   7500  0.105131  Carpet Area  Kolkata       Unfurnished   \n",
       "\n",
       "   Tenant Preferred  Bathroom Point of Contact  Living floor  Total floors  \n",
       "0  Bachelors/Family         2    Contact Owner             0             2  \n",
       "1  Bachelors/Family         1    Contact Owner             1             3  \n",
       "2  Bachelors/Family         1    Contact Owner             1             3  \n",
       "3  Bachelors/Family         1    Contact Owner             1             2  \n",
       "4         Bachelors         1    Contact Owner             1             2  "
      ]
     },
     "execution_count": 89,
     "metadata": {},
     "output_type": "execute_result"
    }
   ],
   "source": [
    "rentData.head(5)"
   ]
  },
  {
   "cell_type": "code",
   "execution_count": 90,
   "id": "13b0964b",
   "metadata": {},
   "outputs": [],
   "source": [
    "#keeping a copy\n",
    "rentDataCopy = rentData.copy()"
   ]
  },
  {
   "cell_type": "code",
   "execution_count": 108,
   "id": "a508ab2b",
   "metadata": {},
   "outputs": [],
   "source": [
    "#we need to encode the remaining categorical values in order to start the testing\n",
    "rentData = pd.get_dummies(rentData, dummy_na=False)"
   ]
  },
  {
   "cell_type": "code",
   "execution_count": 110,
   "id": "f24febe3",
   "metadata": {},
   "outputs": [],
   "source": [
    "rentData = rentData.astype(int)"
   ]
  },
  {
   "cell_type": "code",
   "execution_count": 112,
   "id": "7b868377",
   "metadata": {
    "scrolled": true
   },
   "outputs": [
    {
     "data": {
      "text/html": [
       "<div>\n",
       "<style scoped>\n",
       "    .dataframe tbody tr th:only-of-type {\n",
       "        vertical-align: middle;\n",
       "    }\n",
       "\n",
       "    .dataframe tbody tr th {\n",
       "        vertical-align: top;\n",
       "    }\n",
       "\n",
       "    .dataframe thead th {\n",
       "        text-align: right;\n",
       "    }\n",
       "</style>\n",
       "<table border=\"1\" class=\"dataframe\">\n",
       "  <thead>\n",
       "    <tr style=\"text-align: right;\">\n",
       "      <th></th>\n",
       "      <th>BHK</th>\n",
       "      <th>Rent</th>\n",
       "      <th>Size</th>\n",
       "      <th>Bathroom</th>\n",
       "      <th>Living floor</th>\n",
       "      <th>Total floors</th>\n",
       "      <th>Area Type_Carpet Area</th>\n",
       "      <th>Area Type_Super Area</th>\n",
       "      <th>City_Bangalore</th>\n",
       "      <th>City_Chennai</th>\n",
       "      <th>...</th>\n",
       "      <th>City_Kolkata</th>\n",
       "      <th>City_Mumbai</th>\n",
       "      <th>Furnishing Status_Furnished</th>\n",
       "      <th>Furnishing Status_Semi-Furnished</th>\n",
       "      <th>Furnishing Status_Unfurnished</th>\n",
       "      <th>Tenant Preferred_Bachelors</th>\n",
       "      <th>Tenant Preferred_Bachelors/Family</th>\n",
       "      <th>Tenant Preferred_Family</th>\n",
       "      <th>Point of Contact_Contact Agent</th>\n",
       "      <th>Point of Contact_Contact Owner</th>\n",
       "    </tr>\n",
       "  </thead>\n",
       "  <tbody>\n",
       "    <tr>\n",
       "      <th>0</th>\n",
       "      <td>2</td>\n",
       "      <td>10000</td>\n",
       "      <td>0</td>\n",
       "      <td>2</td>\n",
       "      <td>0</td>\n",
       "      <td>2</td>\n",
       "      <td>0</td>\n",
       "      <td>1</td>\n",
       "      <td>0</td>\n",
       "      <td>0</td>\n",
       "      <td>...</td>\n",
       "      <td>1</td>\n",
       "      <td>0</td>\n",
       "      <td>0</td>\n",
       "      <td>0</td>\n",
       "      <td>1</td>\n",
       "      <td>0</td>\n",
       "      <td>1</td>\n",
       "      <td>0</td>\n",
       "      <td>0</td>\n",
       "      <td>1</td>\n",
       "    </tr>\n",
       "    <tr>\n",
       "      <th>1</th>\n",
       "      <td>2</td>\n",
       "      <td>20000</td>\n",
       "      <td>0</td>\n",
       "      <td>1</td>\n",
       "      <td>1</td>\n",
       "      <td>3</td>\n",
       "      <td>0</td>\n",
       "      <td>1</td>\n",
       "      <td>0</td>\n",
       "      <td>0</td>\n",
       "      <td>...</td>\n",
       "      <td>1</td>\n",
       "      <td>0</td>\n",
       "      <td>0</td>\n",
       "      <td>1</td>\n",
       "      <td>0</td>\n",
       "      <td>0</td>\n",
       "      <td>1</td>\n",
       "      <td>0</td>\n",
       "      <td>0</td>\n",
       "      <td>1</td>\n",
       "    </tr>\n",
       "    <tr>\n",
       "      <th>2</th>\n",
       "      <td>2</td>\n",
       "      <td>17000</td>\n",
       "      <td>0</td>\n",
       "      <td>1</td>\n",
       "      <td>1</td>\n",
       "      <td>3</td>\n",
       "      <td>0</td>\n",
       "      <td>1</td>\n",
       "      <td>0</td>\n",
       "      <td>0</td>\n",
       "      <td>...</td>\n",
       "      <td>1</td>\n",
       "      <td>0</td>\n",
       "      <td>0</td>\n",
       "      <td>1</td>\n",
       "      <td>0</td>\n",
       "      <td>0</td>\n",
       "      <td>1</td>\n",
       "      <td>0</td>\n",
       "      <td>0</td>\n",
       "      <td>1</td>\n",
       "    </tr>\n",
       "    <tr>\n",
       "      <th>3</th>\n",
       "      <td>2</td>\n",
       "      <td>10000</td>\n",
       "      <td>0</td>\n",
       "      <td>1</td>\n",
       "      <td>1</td>\n",
       "      <td>2</td>\n",
       "      <td>0</td>\n",
       "      <td>1</td>\n",
       "      <td>0</td>\n",
       "      <td>0</td>\n",
       "      <td>...</td>\n",
       "      <td>1</td>\n",
       "      <td>0</td>\n",
       "      <td>0</td>\n",
       "      <td>0</td>\n",
       "      <td>1</td>\n",
       "      <td>0</td>\n",
       "      <td>1</td>\n",
       "      <td>0</td>\n",
       "      <td>0</td>\n",
       "      <td>1</td>\n",
       "    </tr>\n",
       "    <tr>\n",
       "      <th>4</th>\n",
       "      <td>2</td>\n",
       "      <td>7500</td>\n",
       "      <td>0</td>\n",
       "      <td>1</td>\n",
       "      <td>1</td>\n",
       "      <td>2</td>\n",
       "      <td>1</td>\n",
       "      <td>0</td>\n",
       "      <td>0</td>\n",
       "      <td>0</td>\n",
       "      <td>...</td>\n",
       "      <td>1</td>\n",
       "      <td>0</td>\n",
       "      <td>0</td>\n",
       "      <td>0</td>\n",
       "      <td>1</td>\n",
       "      <td>1</td>\n",
       "      <td>0</td>\n",
       "      <td>0</td>\n",
       "      <td>0</td>\n",
       "      <td>1</td>\n",
       "    </tr>\n",
       "  </tbody>\n",
       "</table>\n",
       "<p>5 rows × 22 columns</p>\n",
       "</div>"
      ],
      "text/plain": [
       "   BHK   Rent  Size  Bathroom  Living floor  Total floors   \n",
       "0    2  10000     0         2             0             2  \\\n",
       "1    2  20000     0         1             1             3   \n",
       "2    2  17000     0         1             1             3   \n",
       "3    2  10000     0         1             1             2   \n",
       "4    2   7500     0         1             1             2   \n",
       "\n",
       "   Area Type_Carpet Area  Area Type_Super Area  City_Bangalore  City_Chennai   \n",
       "0                      0                     1               0             0  \\\n",
       "1                      0                     1               0             0   \n",
       "2                      0                     1               0             0   \n",
       "3                      0                     1               0             0   \n",
       "4                      1                     0               0             0   \n",
       "\n",
       "   ...  City_Kolkata  City_Mumbai  Furnishing Status_Furnished   \n",
       "0  ...             1            0                            0  \\\n",
       "1  ...             1            0                            0   \n",
       "2  ...             1            0                            0   \n",
       "3  ...             1            0                            0   \n",
       "4  ...             1            0                            0   \n",
       "\n",
       "   Furnishing Status_Semi-Furnished  Furnishing Status_Unfurnished   \n",
       "0                                 0                              1  \\\n",
       "1                                 1                              0   \n",
       "2                                 1                              0   \n",
       "3                                 0                              1   \n",
       "4                                 0                              1   \n",
       "\n",
       "   Tenant Preferred_Bachelors  Tenant Preferred_Bachelors/Family   \n",
       "0                           0                                  1  \\\n",
       "1                           0                                  1   \n",
       "2                           0                                  1   \n",
       "3                           0                                  1   \n",
       "4                           1                                  0   \n",
       "\n",
       "   Tenant Preferred_Family  Point of Contact_Contact Agent   \n",
       "0                        0                               0  \\\n",
       "1                        0                               0   \n",
       "2                        0                               0   \n",
       "3                        0                               0   \n",
       "4                        0                               0   \n",
       "\n",
       "   Point of Contact_Contact Owner  \n",
       "0                               1  \n",
       "1                               1  \n",
       "2                               1  \n",
       "3                               1  \n",
       "4                               1  \n",
       "\n",
       "[5 rows x 22 columns]"
      ]
     },
     "execution_count": 112,
     "metadata": {},
     "output_type": "execute_result"
    }
   ],
   "source": [
    "rentData.head()"
   ]
  },
  {
   "cell_type": "code",
   "execution_count": 113,
   "id": "66eba4eb",
   "metadata": {},
   "outputs": [
    {
     "name": "stdout",
     "output_type": "stream",
     "text": [
      "<class 'pandas.core.frame.DataFrame'>\n",
      "Index: 4731 entries, 0 to 4745\n",
      "Data columns (total 22 columns):\n",
      " #   Column                             Non-Null Count  Dtype\n",
      "---  ------                             --------------  -----\n",
      " 0   BHK                                4731 non-null   int32\n",
      " 1   Rent                               4731 non-null   int32\n",
      " 2   Size                               4731 non-null   int32\n",
      " 3   Bathroom                           4731 non-null   int32\n",
      " 4   Living floor                       4731 non-null   int32\n",
      " 5   Total floors                       4731 non-null   int32\n",
      " 6   Area Type_Carpet Area              4731 non-null   int32\n",
      " 7   Area Type_Super Area               4731 non-null   int32\n",
      " 8   City_Bangalore                     4731 non-null   int32\n",
      " 9   City_Chennai                       4731 non-null   int32\n",
      " 10  City_Delhi                         4731 non-null   int32\n",
      " 11  City_Hyderabad                     4731 non-null   int32\n",
      " 12  City_Kolkata                       4731 non-null   int32\n",
      " 13  City_Mumbai                        4731 non-null   int32\n",
      " 14  Furnishing Status_Furnished        4731 non-null   int32\n",
      " 15  Furnishing Status_Semi-Furnished   4731 non-null   int32\n",
      " 16  Furnishing Status_Unfurnished      4731 non-null   int32\n",
      " 17  Tenant Preferred_Bachelors         4731 non-null   int32\n",
      " 18  Tenant Preferred_Bachelors/Family  4731 non-null   int32\n",
      " 19  Tenant Preferred_Family            4731 non-null   int32\n",
      " 20  Point of Contact_Contact Agent     4731 non-null   int32\n",
      " 21  Point of Contact_Contact Owner     4731 non-null   int32\n",
      "dtypes: int32(22)\n",
      "memory usage: 443.5 KB\n"
     ]
    }
   ],
   "source": [
    "rentData.info()"
   ]
  },
  {
   "cell_type": "code",
   "execution_count": 114,
   "id": "a24f7ada",
   "metadata": {},
   "outputs": [],
   "source": [
    "#Get the features without target variable\n",
    "X = rentData.drop('Rent', axis=1)\n",
    "\n",
    "#Get the target variable which we are going to predict\n",
    "y = rentData['Rent']\n",
    "\n",
    "#set 80% of data to train and 20% for testing\n",
    "X_train, X_test, y_train, y_test = train_test_split(X, y, test_size=0.2)"
   ]
  },
  {
   "cell_type": "code",
   "execution_count": 115,
   "id": "8aaf096c",
   "metadata": {},
   "outputs": [
    {
     "data": {
      "text/plain": [
       "((3784, 21), (947, 21))"
      ]
     },
     "execution_count": 115,
     "metadata": {},
     "output_type": "execute_result"
    }
   ],
   "source": [
    "X_train.shape, X_test.shape"
   ]
  },
  {
   "cell_type": "markdown",
   "id": "e6216267",
   "metadata": {},
   "source": [
    "#Model Training"
   ]
  },
  {
   "cell_type": "code",
   "execution_count": 116,
   "id": "eefc42f8",
   "metadata": {},
   "outputs": [],
   "source": [
    "from sklearn.ensemble import RandomForestRegressor\n",
    "from sklearn.tree import DecisionTreeRegressor\n",
    "from sklearn.linear_model import Lasso\n",
    "from sklearn.linear_model import LinearRegression"
   ]
  },
  {
   "cell_type": "code",
   "execution_count": 117,
   "id": "ffe7b1ce",
   "metadata": {},
   "outputs": [],
   "source": [
    "#Train model via random forest and get the accuracy\n",
    "\n",
    "rf = RandomForestRegressor()\n",
    "rf.fit(X_train, y_train)\n",
    "\n",
    "accuracyRf = rf.score(X_test, y_test)"
   ]
  },
  {
   "cell_type": "code",
   "execution_count": 118,
   "id": "8300f329",
   "metadata": {},
   "outputs": [],
   "source": [
    "#Train model via decision tree and get the accuracy\n",
    "\n",
    "dt = DecisionTreeRegressor()\n",
    "dt.fit(X_train, y_train)\n",
    "\n",
    "accuracyDt = dt.score(X_test, y_test)"
   ]
  },
  {
   "cell_type": "code",
   "execution_count": 119,
   "id": "b7dcff66",
   "metadata": {},
   "outputs": [],
   "source": [
    "#Train model via Linear Regression and get the accuracy\n",
    "\n",
    "lr = LinearRegression()\n",
    "lr.fit(X_train, y_train)\n",
    "\n",
    "accuracyLr = lr.score(X_test, y_test)"
   ]
  },
  {
   "cell_type": "code",
   "execution_count": 120,
   "id": "3e2ea401",
   "metadata": {},
   "outputs": [
    {
     "name": "stdout",
     "output_type": "stream",
     "text": [
      "RandomForestRegressor() accuracy --> 0.6652882876591613\n",
      "DecisionTreeRegressor() accuracy --> 0.358687244722075\n",
      "LinearRegression() accuracy --> 0.5839775536106453\n"
     ]
    }
   ],
   "source": [
    "#random forest\n",
    "print(str(rf)+ ' accuracy --> ' +str(accuracyRf))\n",
    "\n",
    "#decision tree\n",
    "print(str(dt)+ ' accuracy --> ' +str(accuracyDt))\n",
    "\n",
    "#Linear Regression\n",
    "print(str(lr)+ ' accuracy --> ' +str(accuracyLr))"
   ]
  },
  {
   "cell_type": "markdown",
   "id": "0891a847",
   "metadata": {},
   "source": [
    "# Hyperparameter Tunning"
   ]
  },
  {
   "cell_type": "code",
   "execution_count": 121,
   "id": "55282f33",
   "metadata": {},
   "outputs": [
    {
     "data": {
      "text/plain": [
       "0.6722908662111298"
      ]
     },
     "execution_count": 121,
     "metadata": {},
     "output_type": "execute_result"
    }
   ],
   "source": [
    "from sklearn.model_selection import GridSearchCV\n",
    "from sklearn.metrics import r2_score\n",
    "\n",
    "parameters = {'n_estimators':[10, 50, 100],\n",
    "              'criterion':['squared_error','absolute_error','poisson']}\n",
    "grid_obj = GridSearchCV(estimator=rf, param_grid=parameters)\n",
    "grid_fit = grid_obj.fit(X_train, y_train)\n",
    "\n",
    "#Assign the best model after hyperparameter tunning\n",
    "enhanced_model = grid_fit.best_estimator_\n",
    "\n",
    "#Accuracy after tunning\n",
    "enhanced_model.score(X_test, y_test)"
   ]
  },
  {
   "cell_type": "code",
   "execution_count": 123,
   "id": "188bbe69",
   "metadata": {},
   "outputs": [
    {
     "data": {
      "text/plain": [
       "0.6835836676640819"
      ]
     },
     "execution_count": 123,
     "metadata": {},
     "output_type": "execute_result"
    }
   ],
   "source": [
    "enhanced_model.fit(X_train, y_train)\n",
    "\n",
    "y_pred = enhanced_model.predict(X_test)\n",
    "\n",
    "#calculating the r2 score which is coefficient of determination\n",
    "#a metric used to evaluate the performance of regression models\n",
    "r2_score(y_test, y_pred)"
   ]
  },
  {
   "cell_type": "code",
   "execution_count": 124,
   "id": "ab2d456a",
   "metadata": {},
   "outputs": [
    {
     "data": {
      "text/plain": [
       "11967.212486800425"
      ]
     },
     "execution_count": 124,
     "metadata": {},
     "output_type": "execute_result"
    }
   ],
   "source": [
    "#let's calculate the mean error which will give an idea about how the predict and actual values deviated\n",
    "from sklearn.metrics import mean_absolute_error\n",
    "\n",
    "mean_absolute_error(y_test, y_pred)"
   ]
  },
  {
   "cell_type": "markdown",
   "id": "800d4d39",
   "metadata": {},
   "source": [
    "#As per the above error result, we can say, the rent that will predict via this model could be more or less from 11,967 Rs. which is a good avergae since the rent variation is very broad."
   ]
  },
  {
   "cell_type": "code",
   "execution_count": null,
   "id": "d3db3e6e",
   "metadata": {},
   "outputs": [],
   "source": []
  },
  {
   "cell_type": "code",
   "execution_count": null,
   "id": "9f8f65a9",
   "metadata": {},
   "outputs": [],
   "source": []
  }
 ],
 "metadata": {
  "kernelspec": {
   "display_name": "Python 3 (ipykernel)",
   "language": "python",
   "name": "python3"
  },
  "language_info": {
   "codemirror_mode": {
    "name": "ipython",
    "version": 3
   },
   "file_extension": ".py",
   "mimetype": "text/x-python",
   "name": "python",
   "nbconvert_exporter": "python",
   "pygments_lexer": "ipython3",
   "version": "3.11.3"
  }
 },
 "nbformat": 4,
 "nbformat_minor": 5
}
